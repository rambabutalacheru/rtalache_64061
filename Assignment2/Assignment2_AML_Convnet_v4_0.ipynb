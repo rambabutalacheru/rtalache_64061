{
  "nbformat": 4,
  "nbformat_minor": 0,
  "metadata": {
    "accelerator": "GPU",
    "colab": {
      "name": "Assignment2_AML_Convnet_v4_0.ipynb",
      "provenance": [],
      "collapsed_sections": [],
      "machine_shape": "hm"
    },
    "kernelspec": {
      "display_name": "Python 3",
      "language": "python",
      "name": "python3"
    },
    "language_info": {
      "codemirror_mode": {
        "name": "ipython",
        "version": 3
      },
      "file_extension": ".py",
      "mimetype": "text/x-python",
      "name": "python",
      "nbconvert_exporter": "python",
      "pygments_lexer": "ipython3",
      "version": "3.7.0"
    }
  },
  "cells": [
    {
      "cell_type": "markdown",
      "metadata": {
        "id": "M_w9GJQWLJf0"
      },
      "source": [
        "##**Assignment 2 - Deep learning for computer vision**"
      ]
    },
    {
      "cell_type": "markdown",
      "metadata": {
        "id": "QutUglegLJf8"
      },
      "source": [
        "## Objective: To build a Convolutionary Network on a dataset which contains images of cats and dogs such that the model learns the features of these images and will be capable of classifying the unseen images(Test data) into cats & dogs effectively.\n",
        "\n",
        "## Data source: The data set has been taken from Kaggle which contains Training and Test sets with 25000 & 12500 images of equal number of cats & dogs respectively. But, we are going to use only few images (2000) to build the model.\n",
        "\n",
        "## 1. Consider the Cats & Dogs example. Start initially with a training sample of 1000, a validation sample of 500, and a test sample of 500 (like in the text. Use any technique to reduce overfitting and improve performance in developing a network that you train from scratch. What performance did you achieve?\n",
        "\n",
        "#### Test Accuracy - 71.9%\n",
        "\n",
        "#### Training Accuraccy - 98.35%\n",
        "\n",
        "#### Validation Accuracy - 77.09%\n",
        "\n",
        "\n",
        "### So, we got the above results when we used a training sample of 1000 images and using dropout to reduce overfitting."
      ]
    },
    {
      "cell_type": "markdown",
      "metadata": {
        "id": "iBiW9ZHHLJf9"
      },
      "source": [
        "### Downloading the data"
      ]
    },
    {
      "cell_type": "code",
      "metadata": {
        "colab": {
          "resources": {
            "http://localhost:8080/nbextensions/google.colab/files.js": {
              "data": "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",
              "ok": true,
              "headers": [
                [
                  "content-type",
                  "application/javascript"
                ]
              ],
              "status": 200,
              "status_text": ""
            }
          },
          "base_uri": "https://localhost:8080/",
          "height": 90
        },
        "id": "viYjmM2HLJf9",
        "outputId": "8bbf1c45-2240-4755-80d4-1c7885778d58"
      },
      "source": [
        "from google.colab import files\n",
        "files.upload()"
      ],
      "execution_count": null,
      "outputs": [
        {
          "output_type": "display_data",
          "data": {
            "text/plain": [
              "<IPython.core.display.HTML object>"
            ],
            "text/html": [
              "\n",
              "     <input type=\"file\" id=\"files-269631e7-8fc5-4ff2-82e5-25144f2bf8a8\" name=\"files[]\" multiple disabled\n",
              "        style=\"border:none\" />\n",
              "     <output id=\"result-269631e7-8fc5-4ff2-82e5-25144f2bf8a8\">\n",
              "      Upload widget is only available when the cell has been executed in the\n",
              "      current browser session. Please rerun this cell to enable.\n",
              "      </output>\n",
              "      <script src=\"/nbextensions/google.colab/files.js\"></script> "
            ]
          },
          "metadata": {}
        },
        {
          "output_type": "stream",
          "name": "stdout",
          "text": [
            "Saving kaggle.json to kaggle.json\n"
          ]
        },
        {
          "output_type": "execute_result",
          "data": {
            "text/plain": [
              "{'kaggle.json': b'{\"username\":\"rambabutalacheru\",\"key\":\"fa59af252e0805f2ef288d17d73d607c\"}'}"
            ]
          },
          "metadata": {},
          "execution_count": 1
        }
      ]
    },
    {
      "cell_type": "code",
      "metadata": {
        "id": "bnd8M_zRLJf9"
      },
      "source": [
        "!mkdir ~/.kaggle\n",
        "!cp kaggle.json ~/.kaggle/\n",
        "!chmod 600 ~/.kaggle/kaggle.json"
      ],
      "execution_count": null,
      "outputs": []
    },
    {
      "cell_type": "code",
      "metadata": {
        "colab": {
          "base_uri": "https://localhost:8080/"
        },
        "id": "606RcoSyLJf-",
        "outputId": "7539253a-4446-44f1-e7d2-c11c05cada4a"
      },
      "source": [
        "!kaggle competitions download -c dogs-vs-cats"
      ],
      "execution_count": null,
      "outputs": [
        {
          "output_type": "stream",
          "name": "stdout",
          "text": [
            "Downloading dogs-vs-cats.zip to /content\n",
            " 99% 808M/812M [00:03<00:00, 248MB/s]\n",
            "100% 812M/812M [00:03<00:00, 231MB/s]\n"
          ]
        }
      ]
    },
    {
      "cell_type": "code",
      "source": [
        "!unzip -qq dogs-vs-cats"
      ],
      "metadata": {
        "id": "mLHh4BCRjtq6"
      },
      "execution_count": null,
      "outputs": []
    },
    {
      "cell_type": "code",
      "metadata": {
        "id": "y8UWwdXcMOcE"
      },
      "source": [
        "!unzip -qq test1.zip"
      ],
      "execution_count": null,
      "outputs": []
    },
    {
      "cell_type": "code",
      "metadata": {
        "id": "ABcoW4YHHkgU"
      },
      "source": [
        "!unzip -qq train.zip"
      ],
      "execution_count": null,
      "outputs": []
    },
    {
      "cell_type": "code",
      "metadata": {
        "id": "YlOppXz1J48i"
      },
      "source": [
        "#shutil.rmtree(\"./cats_vs_dogs_small\", ignore_errors=True)\n",
        "#shutil.rmtree(\"./test1\", ignore_errors=True)\n",
        "#shutil.rmtree(\"./train\", ignore_errors=True)\n"
      ],
      "execution_count": null,
      "outputs": []
    },
    {
      "cell_type": "markdown",
      "metadata": {
        "id": "cTtWpwnPz7b5"
      },
      "source": [
        "**Copying images to training, validation, and test directories**"
      ]
    },
    {
      "cell_type": "code",
      "metadata": {
        "id": "mkM9Kg1uLJf-"
      },
      "source": [
        "import os, shutil, pathlib\n",
        "\n",
        "original_dir = pathlib.Path(\"train\")\n",
        "new_base_dir = pathlib.Path(\"cats_vs_dogs_small\")\n",
        "\n",
        "def make_subset(subset_name, start_index, end_index):\n",
        "    for category in (\"cat\", \"dog\"):\n",
        "        dir = new_base_dir / subset_name / category\n",
        "        os.makedirs(dir)\n",
        "        fnames = [f\"{category}.{i}.jpg\" for i in range(start_index, end_index)]\n",
        "        for fname in fnames:\n",
        "            shutil.copyfile(src=original_dir / fname,\n",
        "                            dst=dir / fname)\n",
        "#Creating training, Test and validation sets.\n",
        "#Training has 1000 samples, test has 500 samples and validation has 500 samples.\n",
        "make_subset(\"train\", start_index=0, end_index=1000)\n",
        "make_subset(\"validation\", start_index=1000, end_index=1500)\n",
        "make_subset(\"test\", start_index=1500, end_index=2000)"
      ],
      "execution_count": null,
      "outputs": []
    },
    {
      "cell_type": "markdown",
      "metadata": {
        "id": "z4fboVketrcu"
      },
      "source": [
        "**Using `image_dataset_from_directory` to read images**"
      ]
    },
    {
      "cell_type": "code",
      "metadata": {
        "colab": {
          "base_uri": "https://localhost:8080/"
        },
        "id": "n2KO6Tz_LJgA",
        "outputId": "5e944919-e21c-4e41-a05d-e217ea24fa97"
      },
      "source": [
        "from tensorflow.keras.utils import image_dataset_from_directory\n",
        "\n",
        "train_dataset = image_dataset_from_directory(\n",
        "    new_base_dir / \"train\",\n",
        "    image_size=(180, 180),\n",
        "    batch_size=32)\n",
        "validation_dataset = image_dataset_from_directory(\n",
        "    new_base_dir / \"validation\",\n",
        "    image_size=(180, 180),\n",
        "    batch_size=32)\n",
        "test_dataset = image_dataset_from_directory(\n",
        "    new_base_dir / \"test\",\n",
        "    image_size=(180, 180),\n",
        "    batch_size=32)"
      ],
      "execution_count": null,
      "outputs": [
        {
          "output_type": "stream",
          "name": "stdout",
          "text": [
            "Found 2000 files belonging to 2 classes.\n",
            "Found 1000 files belonging to 2 classes.\n",
            "Found 1000 files belonging to 2 classes.\n"
          ]
        }
      ]
    },
    {
      "cell_type": "markdown",
      "metadata": {
        "id": "u1ofxMIFp-nL"
      },
      "source": [
        "Create a datset instance from NumPy array of random numbers of 1000 samples and each sample of vector size 16"
      ]
    },
    {
      "cell_type": "code",
      "metadata": {
        "id": "q-OvV49ALJgB"
      },
      "source": [
        "import numpy as np\n",
        "import tensorflow as tf\n",
        "random_numbers = np.random.normal(size=(1000, 16))\n",
        "dataset = tf.data.Dataset.from_tensor_slices(random_numbers)"
      ],
      "execution_count": null,
      "outputs": []
    },
    {
      "cell_type": "code",
      "metadata": {
        "colab": {
          "base_uri": "https://localhost:8080/"
        },
        "id": "J2VciHhWLJgB",
        "outputId": "3afaf117-a926-41a3-bd62-c74bb9cd3a5e"
      },
      "source": [
        "for i, element in enumerate(dataset):\n",
        "    print(element.shape)\n",
        "    if i >= 2:\n",
        "        break"
      ],
      "execution_count": null,
      "outputs": [
        {
          "output_type": "stream",
          "name": "stdout",
          "text": [
            "(16,)\n",
            "(16,)\n",
            "(16,)\n"
          ]
        }
      ]
    },
    {
      "cell_type": "markdown",
      "metadata": {
        "id": "ltmtIkKxq4sf"
      },
      "source": [
        "Batching the data into batches of size 32"
      ]
    },
    {
      "cell_type": "code",
      "metadata": {
        "colab": {
          "base_uri": "https://localhost:8080/"
        },
        "id": "2HaIetuiLJgB",
        "outputId": "8f66eea7-4b4d-4c8b-a4f8-674fb8a17ad7"
      },
      "source": [
        "batched_dataset = dataset.batch(32)\n",
        "for i, element in enumerate(batched_dataset):\n",
        "    print(element.shape)\n",
        "    if i >= 2:\n",
        "        break"
      ],
      "execution_count": null,
      "outputs": [
        {
          "output_type": "stream",
          "name": "stdout",
          "text": [
            "(32, 16)\n",
            "(32, 16)\n",
            "(32, 16)\n"
          ]
        }
      ]
    },
    {
      "cell_type": "code",
      "metadata": {
        "colab": {
          "base_uri": "https://localhost:8080/"
        },
        "id": "Aqh5SrMXLJgB",
        "outputId": "785ebeab-6f08-46cc-cab4-450041099083"
      },
      "source": [
        "reshaped_dataset = dataset.map(lambda x: tf.reshape(x, (4, 4)))\n",
        "for i, element in enumerate(reshaped_dataset):\n",
        "    print(element.shape)\n",
        "    if i >= 2:\n",
        "        break"
      ],
      "execution_count": null,
      "outputs": [
        {
          "output_type": "stream",
          "name": "stdout",
          "text": [
            "(4, 4)\n",
            "(4, 4)\n",
            "(4, 4)\n"
          ]
        }
      ]
    },
    {
      "cell_type": "code",
      "metadata": {
        "colab": {
          "base_uri": "https://localhost:8080/"
        },
        "id": "YLVTY3F6LJgC",
        "outputId": "db30afbe-275b-41af-96ef-b5771c43d3dd"
      },
      "source": [
        "for data_batch, labels_batch in train_dataset:\n",
        "    print(\"data batch shape:\", data_batch.shape)\n",
        "    print(\"labels batch shape:\", labels_batch.shape)\n",
        "    break"
      ],
      "execution_count": null,
      "outputs": [
        {
          "output_type": "stream",
          "name": "stdout",
          "text": [
            "data batch shape: (32, 180, 180, 3)\n",
            "labels batch shape: (32,)\n"
          ]
        }
      ]
    },
    {
      "cell_type": "markdown",
      "metadata": {
        "id": "P1hLVDnpLJf-"
      },
      "source": [
        "##Building the model"
      ]
    },
    {
      "cell_type": "markdown",
      "metadata": {
        "id": "9XAsrO-rtzd-"
      },
      "source": [
        "**Instantiating a small convnet for dogs vs. cats classification**\n"
      ]
    },
    {
      "cell_type": "code",
      "metadata": {
        "id": "beY7fF_KLJf_"
      },
      "source": [
        "from tensorflow import keras\n",
        "from tensorflow.keras import layers\n",
        "\n",
        "inputs = keras.Input(shape=(180, 180, 3))\n",
        "x = layers.Rescaling(1./255)(inputs)\n",
        "x = layers.Conv2D(filters=32, kernel_size=3, activation=\"relu\")(x)\n",
        "x = layers.MaxPooling2D(pool_size=2)(x)\n",
        "x = layers.Conv2D(filters=64, kernel_size=3, activation=\"relu\")(x)\n",
        "x = layers.MaxPooling2D(pool_size=2)(x)\n",
        "x = layers.Conv2D(filters=128, kernel_size=3, activation=\"relu\")(x)\n",
        "x = layers.MaxPooling2D(pool_size=2)(x)\n",
        "x = layers.Conv2D(filters=256, kernel_size=3, activation=\"relu\")(x)\n",
        "x = layers.MaxPooling2D(pool_size=2)(x)\n",
        "x = layers.Conv2D(filters=256, kernel_size=3, activation=\"relu\")(x)\n",
        "x = layers.Flatten()(x)\n",
        "x = layers.Dropout(0.5)(x)\n",
        "outputs = layers.Dense(1, activation=\"sigmoid\")(x)\n",
        "model = keras.Model(inputs=inputs, outputs=outputs)"
      ],
      "execution_count": null,
      "outputs": []
    },
    {
      "cell_type": "markdown",
      "metadata": {
        "id": "UkzEJ5iuLJgA"
      },
      "source": [
        "**Configuring the model for training**"
      ]
    },
    {
      "cell_type": "code",
      "metadata": {
        "id": "1Ytsm5F8LJgA"
      },
      "source": [
        "model.compile(loss=\"binary_crossentropy\",\n",
        "              optimizer=\"adam\",\n",
        "              metrics=[\"accuracy\"])"
      ],
      "execution_count": null,
      "outputs": []
    },
    {
      "cell_type": "code",
      "metadata": {
        "colab": {
          "base_uri": "https://localhost:8080/"
        },
        "id": "orpQgeVVLJf_",
        "outputId": "8fab0100-1667-4bb2-e361-658184d593c3"
      },
      "source": [
        "model.summary()"
      ],
      "execution_count": null,
      "outputs": [
        {
          "output_type": "stream",
          "name": "stdout",
          "text": [
            "Model: \"model\"\n",
            "_________________________________________________________________\n",
            " Layer (type)                Output Shape              Param #   \n",
            "=================================================================\n",
            " input_1 (InputLayer)        [(None, 180, 180, 3)]     0         \n",
            "                                                                 \n",
            " rescaling (Rescaling)       (None, 180, 180, 3)       0         \n",
            "                                                                 \n",
            " conv2d (Conv2D)             (None, 178, 178, 32)      896       \n",
            "                                                                 \n",
            " max_pooling2d (MaxPooling2D  (None, 89, 89, 32)       0         \n",
            " )                                                               \n",
            "                                                                 \n",
            " conv2d_1 (Conv2D)           (None, 87, 87, 64)        18496     \n",
            "                                                                 \n",
            " max_pooling2d_1 (MaxPooling  (None, 43, 43, 64)       0         \n",
            " 2D)                                                             \n",
            "                                                                 \n",
            " conv2d_2 (Conv2D)           (None, 41, 41, 128)       73856     \n",
            "                                                                 \n",
            " max_pooling2d_2 (MaxPooling  (None, 20, 20, 128)      0         \n",
            " 2D)                                                             \n",
            "                                                                 \n",
            " conv2d_3 (Conv2D)           (None, 18, 18, 256)       295168    \n",
            "                                                                 \n",
            " max_pooling2d_3 (MaxPooling  (None, 9, 9, 256)        0         \n",
            " 2D)                                                             \n",
            "                                                                 \n",
            " conv2d_4 (Conv2D)           (None, 7, 7, 256)         590080    \n",
            "                                                                 \n",
            " flatten (Flatten)           (None, 12544)             0         \n",
            "                                                                 \n",
            " dropout (Dropout)           (None, 12544)             0         \n",
            "                                                                 \n",
            " dense (Dense)               (None, 1)                 12545     \n",
            "                                                                 \n",
            "=================================================================\n",
            "Total params: 991,041\n",
            "Trainable params: 991,041\n",
            "Non-trainable params: 0\n",
            "_________________________________________________________________\n"
          ]
        }
      ]
    },
    {
      "cell_type": "markdown",
      "metadata": {
        "id": "KDMhNkahLJgC"
      },
      "source": [
        "**Fitting the model using a `Dataset`**"
      ]
    },
    {
      "cell_type": "code",
      "metadata": {
        "colab": {
          "base_uri": "https://localhost:8080/"
        },
        "id": "3_Us5bFxLJgC",
        "outputId": "068d5cee-fb3c-4920-a051-bc56d5b911dd"
      },
      "source": [
        "from keras.callbacks import ModelCheckpoint, EarlyStopping\n",
        "\n",
        "callbacks = [\n",
        "    keras.callbacks.ModelCheckpoint(\n",
        "        filepath=\"convnet_from_scratch.keras\",\n",
        "        save_best_only=True,\n",
        "        monitor=\"val_loss\")\n",
        "]\n",
        "history = model.fit(\n",
        "    train_dataset,\n",
        "    epochs=30,\n",
        "    validation_data=validation_dataset,\n",
        "    callbacks=callbacks)"
      ],
      "execution_count": null,
      "outputs": [
        {
          "output_type": "stream",
          "name": "stdout",
          "text": [
            "Epoch 1/30\n",
            "63/63 [==============================] - 24s 164ms/step - loss: 0.6938 - accuracy: 0.5205 - val_loss: 0.6924 - val_accuracy: 0.5020\n",
            "Epoch 2/30\n",
            "63/63 [==============================] - 9s 140ms/step - loss: 0.6937 - accuracy: 0.5085 - val_loss: 0.6922 - val_accuracy: 0.4990\n",
            "Epoch 3/30\n",
            "63/63 [==============================] - 9s 139ms/step - loss: 0.6748 - accuracy: 0.5660 - val_loss: 0.6424 - val_accuracy: 0.6260\n",
            "Epoch 4/30\n",
            "63/63 [==============================] - 9s 139ms/step - loss: 0.6468 - accuracy: 0.6455 - val_loss: 0.6354 - val_accuracy: 0.6390\n",
            "Epoch 5/30\n",
            "63/63 [==============================] - 9s 139ms/step - loss: 0.6153 - accuracy: 0.6575 - val_loss: 0.6324 - val_accuracy: 0.6470\n",
            "Epoch 6/30\n",
            "63/63 [==============================] - 10s 149ms/step - loss: 0.5856 - accuracy: 0.6820 - val_loss: 0.5866 - val_accuracy: 0.6880\n",
            "Epoch 7/30\n",
            "63/63 [==============================] - 9s 138ms/step - loss: 0.5763 - accuracy: 0.7050 - val_loss: 0.6080 - val_accuracy: 0.6790\n",
            "Epoch 8/30\n",
            "63/63 [==============================] - 9s 143ms/step - loss: 0.5379 - accuracy: 0.7330 - val_loss: 0.5751 - val_accuracy: 0.7040\n",
            "Epoch 9/30\n",
            "63/63 [==============================] - 9s 138ms/step - loss: 0.5023 - accuracy: 0.7600 - val_loss: 0.6094 - val_accuracy: 0.7090\n",
            "Epoch 10/30\n",
            "63/63 [==============================] - 9s 138ms/step - loss: 0.4972 - accuracy: 0.7675 - val_loss: 0.6495 - val_accuracy: 0.7060\n",
            "Epoch 11/30\n",
            "63/63 [==============================] - 9s 139ms/step - loss: 0.4686 - accuracy: 0.7775 - val_loss: 0.6440 - val_accuracy: 0.6850\n",
            "Epoch 12/30\n",
            "63/63 [==============================] - 9s 140ms/step - loss: 0.4003 - accuracy: 0.8150 - val_loss: 0.7092 - val_accuracy: 0.6860\n",
            "Epoch 13/30\n",
            "63/63 [==============================] - 9s 139ms/step - loss: 0.3805 - accuracy: 0.8270 - val_loss: 0.5715 - val_accuracy: 0.7550\n",
            "Epoch 14/30\n",
            "63/63 [==============================] - 9s 139ms/step - loss: 0.3206 - accuracy: 0.8560 - val_loss: 0.6256 - val_accuracy: 0.7500\n",
            "Epoch 15/30\n",
            "63/63 [==============================] - 9s 138ms/step - loss: 0.2747 - accuracy: 0.8875 - val_loss: 0.6213 - val_accuracy: 0.7580\n",
            "Epoch 16/30\n",
            "63/63 [==============================] - 9s 138ms/step - loss: 0.2289 - accuracy: 0.9055 - val_loss: 0.6437 - val_accuracy: 0.7580\n",
            "Epoch 17/30\n",
            "63/63 [==============================] - 9s 138ms/step - loss: 0.1884 - accuracy: 0.9255 - val_loss: 0.7547 - val_accuracy: 0.7510\n",
            "Epoch 18/30\n",
            "63/63 [==============================] - 9s 138ms/step - loss: 0.1726 - accuracy: 0.9355 - val_loss: 0.7301 - val_accuracy: 0.7570\n",
            "Epoch 19/30\n",
            "63/63 [==============================] - 9s 139ms/step - loss: 0.1523 - accuracy: 0.9425 - val_loss: 0.7729 - val_accuracy: 0.7440\n",
            "Epoch 20/30\n",
            "63/63 [==============================] - 9s 138ms/step - loss: 0.1287 - accuracy: 0.9495 - val_loss: 0.7891 - val_accuracy: 0.7650\n",
            "Epoch 21/30\n",
            "63/63 [==============================] - 9s 139ms/step - loss: 0.0815 - accuracy: 0.9720 - val_loss: 0.8652 - val_accuracy: 0.7790\n",
            "Epoch 22/30\n",
            "63/63 [==============================] - 9s 138ms/step - loss: 0.0485 - accuracy: 0.9825 - val_loss: 0.9960 - val_accuracy: 0.7760\n",
            "Epoch 23/30\n",
            "63/63 [==============================] - 9s 138ms/step - loss: 0.0661 - accuracy: 0.9760 - val_loss: 1.0571 - val_accuracy: 0.7520\n",
            "Epoch 24/30\n",
            "63/63 [==============================] - 9s 138ms/step - loss: 0.0705 - accuracy: 0.9745 - val_loss: 0.9827 - val_accuracy: 0.7700\n",
            "Epoch 25/30\n",
            "63/63 [==============================] - 9s 138ms/step - loss: 0.0452 - accuracy: 0.9855 - val_loss: 1.1509 - val_accuracy: 0.7690\n",
            "Epoch 26/30\n",
            "63/63 [==============================] - 9s 139ms/step - loss: 0.0317 - accuracy: 0.9900 - val_loss: 1.1931 - val_accuracy: 0.7630\n",
            "Epoch 27/30\n",
            "63/63 [==============================] - 9s 141ms/step - loss: 0.0550 - accuracy: 0.9825 - val_loss: 1.0782 - val_accuracy: 0.7810\n",
            "Epoch 28/30\n",
            "63/63 [==============================] - 9s 140ms/step - loss: 0.0442 - accuracy: 0.9860 - val_loss: 1.1436 - val_accuracy: 0.7770\n",
            "Epoch 29/30\n",
            "63/63 [==============================] - 9s 139ms/step - loss: 0.0392 - accuracy: 0.9855 - val_loss: 1.2777 - val_accuracy: 0.7700\n",
            "Epoch 30/30\n",
            "63/63 [==============================] - 9s 139ms/step - loss: 0.0290 - accuracy: 0.9890 - val_loss: 1.2486 - val_accuracy: 0.7720\n"
          ]
        }
      ]
    },
    {
      "cell_type": "markdown",
      "metadata": {
        "id": "wFh51DoALJgC"
      },
      "source": [
        "**Displaying curves of loss and accuracy during training**"
      ]
    },
    {
      "cell_type": "code",
      "metadata": {
        "colab": {
          "base_uri": "https://localhost:8080/",
          "height": 1000
        },
        "id": "k4Iv3jPhLJgC",
        "outputId": "cdc2b98b-dd84-4eef-d6b7-d7e4678f04d3"
      },
      "source": [
        "\n",
        "import matplotlib.pyplot as plt\n",
        "\n",
        "plt.figure(figsize=(10, 10))\n",
        "accuracy = history.history[\"accuracy\"]\n",
        "val_accuracy = history.history[\"val_accuracy\"]\n",
        "loss = history.history[\"loss\"]\n",
        "val_loss = history.history[\"val_loss\"]\n",
        "epochs = range(1, len(accuracy) + 1)\n",
        "plt.plot(epochs, accuracy, \"bo\", label=\"Training accuracy\")\n",
        "plt.plot(epochs, val_accuracy, \"b\", label=\"Validation accuracy\")\n",
        "plt.title(\"Training and validation accuracy\")\n",
        "plt.legend()\n",
        "plt.figure()\n",
        "plt.figure(figsize=(10, 10))\n",
        "plt.plot(epochs, loss, \"bo\", label=\"Training loss\")\n",
        "plt.plot(epochs, val_loss, \"b\", label=\"Validation loss\")\n",
        "plt.title(\"Training and validation loss\")\n",
        "plt.legend()\n",
        "plt.show()"
      ],
      "execution_count": null,
      "outputs": [
        {
          "output_type": "display_data",
          "data": {
            "text/plain": [
              "<Figure size 720x720 with 1 Axes>"
            ],
            "image/png": "[encoded data removed]"
          },
          "metadata": {
            "needs_background": "light"
          }
        },
        {
          "output_type": "display_data",
          "data": {
            "text/plain": [
              "<Figure size 432x288 with 0 Axes>"
            ]
          },
          "metadata": {}
        },
        {
          "output_type": "display_data",
          "data": {
            "text/plain": [
              "<Figure size 720x720 with 1 Axes>"
            ],
            "image/png": "[encoded data removed]"
          },
          "metadata": {
            "needs_background": "light"
          }
        }
      ]
    },
    {
      "cell_type": "markdown",
      "metadata": {
        "id": "IxhZlNRjLJgD"
      },
      "source": [
        "**Evaluating the model on the test set**"
      ]
    },
    {
      "cell_type": "code",
      "metadata": {
        "colab": {
          "base_uri": "https://localhost:8080/"
        },
        "id": "rnkCdcr2LJgD",
        "outputId": "a20b4a72-3f99-484b-8449-df52a20170e9"
      },
      "source": [
        "test_model = keras.models.load_model(\"convnet_from_scratch.keras\")\n",
        "test_loss, test_acc = test_model.evaluate(test_dataset)\n",
        "print(f\"Test accuracy: {test_acc:.3f}\")"
      ],
      "execution_count": null,
      "outputs": [
        {
          "output_type": "stream",
          "name": "stdout",
          "text": [
            "32/32 [==============================] - 2s 51ms/step - loss: 0.6798 - accuracy: 0.7190\n",
            "Test accuracy: 0.719\n"
          ]
        }
      ]
    },
    {
      "cell_type": "markdown",
      "metadata": {
        "id": "JYJ0Y_Jtcy7O"
      },
      "source": [
        "# Q2.  Increase your training sample size. You may pick any amount. Keep the validation and test samples the same as above. Optimize your network (again training from scratch). What performance did you achieve?\n",
        "\n",
        "#### Test Accuracy - 82.70%\n",
        "\n",
        "#### Training Accuraccy - 88%\n",
        "\n",
        "#### Validation Accuracy - 84% \n",
        "\n",
        "\n",
        "## So, there is a high increase in  Train, Validation and Test(From 71% to 82.7%) accuracy when the number of training samples is increased and data augmentation is used as expected. "
      ]
    },
    {
      "cell_type": "markdown",
      "metadata": {
        "id": "go8Th_HDLJgD"
      },
      "source": [
        "**Define a data augmentation stage to add to an image model**"
      ]
    },
    {
      "cell_type": "code",
      "metadata": {
        "id": "Ecz_riV30EGy"
      },
      "source": [
        "import os, shutil, pathlib\n",
        "\n",
        "shutil.rmtree(\"./cats_vs_dogs_small_Q2\", ignore_errors=True)\n",
        "\n",
        "original_dir = pathlib.Path(\"train\")\n",
        "new_base_dir = pathlib.Path(\"cats_vs_dogs_small_Q2\")\n",
        "\n",
        "def make_subset(subset_name, start_index, end_index):\n",
        "    for category in (\"cat\", \"dog\"):\n",
        "        dir = new_base_dir / subset_name / category\n",
        "        os.makedirs(dir)\n",
        "        fnames = [f\"{category}.{i}.jpg\" for i in range(start_index, end_index)]\n",
        "        for fname in fnames:\n",
        "            shutil.copyfile(src=original_dir / fname,\n",
        "                            dst=dir / fname)\n",
        "#Creating training, Test and validation sets.\n",
        "#Training has 1000 samples, test has 500 samples and validation has 500 samples.\n",
        "make_subset(\"train\", start_index=0, end_index=1500)\n",
        "make_subset(\"validation\", start_index=1500, end_index=2000)\n",
        "make_subset(\"test\", start_index=2000, end_index=2500)"
      ],
      "execution_count": null,
      "outputs": []
    },
    {
      "cell_type": "code",
      "metadata": {
        "id": "RopcC5mFLJgE"
      },
      "source": [
        "data_augmentation = keras.Sequential(\n",
        "    [\n",
        "        layers.RandomFlip(\"horizontal\"),\n",
        "        layers.RandomRotation(0.1),\n",
        "        layers.RandomZoom(0.2),\n",
        "    ]\n",
        ")"
      ],
      "execution_count": null,
      "outputs": []
    },
    {
      "cell_type": "markdown",
      "metadata": {
        "id": "cRpQ-P8eLJgE"
      },
      "source": [
        "**Displaying some randomly augmented training images**"
      ]
    },
    {
      "cell_type": "code",
      "metadata": {
        "colab": {
          "base_uri": "https://localhost:8080/",
          "height": 575
        },
        "id": "w4fdl64zLJgE",
        "outputId": "3bf9e4d6-4747-4369-e260-2fc0b396f629"
      },
      "source": [
        "plt.figure(figsize=(10, 10))\n",
        "for images, _ in train_dataset.take(1):\n",
        "    for i in range(9):\n",
        "        augmented_images = data_augmentation(images)\n",
        "        ax = plt.subplot(3, 3, i + 1)\n",
        "        plt.imshow(augmented_images[0].numpy().astype(\"uint8\"))\n",
        "        plt.axis(\"off\")"
      ],
      "execution_count": null,
      "outputs": [
        {
          "output_type": "display_data",
          "data": {
            "text/plain": [
              "<Figure size 720x720 with 9 Axes>"
            ],
            "image/png": "[encoded data removed]"
          },
          "metadata": {
            "needs_background": "light"
          }
        }
      ]
    },
    {
      "cell_type": "markdown",
      "metadata": {
        "id": "mtaPOa7ILJgE"
      },
      "source": [
        "**Defining a new convnet that includes image augmentation and dropout**"
      ]
    },
    {
      "cell_type": "code",
      "metadata": {
        "id": "zziUmvoPLJgE"
      },
      "source": [
        "inputs = keras.Input(shape=(180, 180, 3))\n",
        "x = data_augmentation(inputs)\n",
        "x = layers.Rescaling(1./255)(x)\n",
        "x = layers.Conv2D(filters=32, kernel_size=3, activation=\"relu\")(x)\n",
        "x = layers.MaxPooling2D(pool_size=2)(x)\n",
        "x = layers.Conv2D(filters=64, kernel_size=3, activation=\"relu\")(x)\n",
        "x = layers.MaxPooling2D(pool_size=2)(x)\n",
        "x = layers.Conv2D(filters=128, kernel_size=3, activation=\"relu\")(x)\n",
        "x = layers.MaxPooling2D(pool_size=2)(x)\n",
        "x = layers.Conv2D(filters=256, kernel_size=3, activation=\"relu\")(x)\n",
        "x = layers.MaxPooling2D(pool_size=2)(x)\n",
        "x = layers.Conv2D(filters=256, kernel_size=3, activation=\"relu\")(x)\n",
        "x = layers.Flatten()(x)\n",
        "x = layers.Dropout(0.5)(x)\n",
        "outputs = layers.Dense(1, activation=\"sigmoid\")(x)\n",
        "model = keras.Model(inputs=inputs, outputs=outputs)\n",
        "\n",
        "model.compile(loss=\"binary_crossentropy\",\n",
        "              optimizer=\"adam\",\n",
        "              metrics=[\"accuracy\"])"
      ],
      "execution_count": null,
      "outputs": []
    },
    {
      "cell_type": "markdown",
      "metadata": {
        "id": "8cneVnr6LJgF"
      },
      "source": [
        "**Training the regularized convnet**"
      ]
    },
    {
      "cell_type": "code",
      "metadata": {
        "colab": {
          "base_uri": "https://localhost:8080/"
        },
        "id": "cc6rLTqeLJgF",
        "outputId": "9ad13d74-788c-4234-f0b4-666d037997c6"
      },
      "source": [
        "callbacks = [\n",
        "    keras.callbacks.ModelCheckpoint(\n",
        "        filepath=\"convnet_from_scratch_with_augmentation.keras\",\n",
        "        save_best_only=True,\n",
        "        monitor=\"val_loss\")\n",
        "]\n",
        "history = model.fit(\n",
        "    train_dataset,\n",
        "    epochs=50,\n",
        "    validation_data=validation_dataset,\n",
        "    callbacks=callbacks)"
      ],
      "execution_count": null,
      "outputs": [
        {
          "output_type": "stream",
          "name": "stdout",
          "text": [
            "Epoch 1/50\n",
            "63/63 [==============================] - 11s 149ms/step - loss: 0.6941 - accuracy: 0.4975 - val_loss: 0.6926 - val_accuracy: 0.5250\n",
            "Epoch 2/50\n",
            "63/63 [==============================] - 10s 148ms/step - loss: 0.6949 - accuracy: 0.5115 - val_loss: 0.6924 - val_accuracy: 0.5960\n",
            "Epoch 3/50\n",
            "63/63 [==============================] - 10s 147ms/step - loss: 0.6879 - accuracy: 0.5345 - val_loss: 0.6690 - val_accuracy: 0.5970\n",
            "Epoch 4/50\n",
            "63/63 [==============================] - 10s 147ms/step - loss: 0.6845 - accuracy: 0.5570 - val_loss: 0.6492 - val_accuracy: 0.6270\n",
            "Epoch 5/50\n",
            "63/63 [==============================] - 10s 147ms/step - loss: 0.6721 - accuracy: 0.5900 - val_loss: 0.6282 - val_accuracy: 0.6550\n",
            "Epoch 6/50\n",
            "63/63 [==============================] - 10s 146ms/step - loss: 0.6575 - accuracy: 0.6130 - val_loss: 0.6309 - val_accuracy: 0.6380\n",
            "Epoch 7/50\n",
            "63/63 [==============================] - 10s 148ms/step - loss: 0.6382 - accuracy: 0.6405 - val_loss: 0.5974 - val_accuracy: 0.6830\n",
            "Epoch 8/50\n",
            "63/63 [==============================] - 9s 146ms/step - loss: 0.6349 - accuracy: 0.6515 - val_loss: 0.5991 - val_accuracy: 0.6740\n",
            "Epoch 9/50\n",
            "63/63 [==============================] - 9s 146ms/step - loss: 0.6261 - accuracy: 0.6510 - val_loss: 0.6284 - val_accuracy: 0.6560\n",
            "Epoch 10/50\n",
            "63/63 [==============================] - 9s 146ms/step - loss: 0.6151 - accuracy: 0.6595 - val_loss: 0.6326 - val_accuracy: 0.6530\n",
            "Epoch 11/50\n",
            "63/63 [==============================] - 10s 148ms/step - loss: 0.6166 - accuracy: 0.6590 - val_loss: 0.5694 - val_accuracy: 0.7070\n",
            "Epoch 12/50\n",
            "63/63 [==============================] - 10s 147ms/step - loss: 0.5957 - accuracy: 0.6825 - val_loss: 0.5726 - val_accuracy: 0.7160\n",
            "Epoch 13/50\n",
            "63/63 [==============================] - 10s 147ms/step - loss: 0.5815 - accuracy: 0.6990 - val_loss: 0.6131 - val_accuracy: 0.6870\n",
            "Epoch 14/50\n",
            "63/63 [==============================] - 10s 147ms/step - loss: 0.5779 - accuracy: 0.6940 - val_loss: 0.5746 - val_accuracy: 0.7070\n",
            "Epoch 15/50\n",
            "63/63 [==============================] - 10s 147ms/step - loss: 0.5639 - accuracy: 0.7115 - val_loss: 0.6003 - val_accuracy: 0.6900\n",
            "Epoch 16/50\n",
            "63/63 [==============================] - 9s 146ms/step - loss: 0.5648 - accuracy: 0.7035 - val_loss: 0.5707 - val_accuracy: 0.7130\n",
            "Epoch 17/50\n",
            "63/63 [==============================] - 9s 146ms/step - loss: 0.5447 - accuracy: 0.7200 - val_loss: 0.5775 - val_accuracy: 0.7290\n",
            "Epoch 18/50\n",
            "63/63 [==============================] - 10s 147ms/step - loss: 0.5356 - accuracy: 0.7350 - val_loss: 0.5177 - val_accuracy: 0.7480\n",
            "Epoch 19/50\n",
            "63/63 [==============================] - 9s 146ms/step - loss: 0.4968 - accuracy: 0.7680 - val_loss: 0.5422 - val_accuracy: 0.7500\n",
            "Epoch 20/50\n",
            "63/63 [==============================] - 10s 147ms/step - loss: 0.5019 - accuracy: 0.7635 - val_loss: 0.4549 - val_accuracy: 0.7810\n",
            "Epoch 21/50\n",
            "63/63 [==============================] - 9s 145ms/step - loss: 0.5197 - accuracy: 0.7435 - val_loss: 0.4832 - val_accuracy: 0.7780\n",
            "Epoch 22/50\n",
            "63/63 [==============================] - 9s 146ms/step - loss: 0.4963 - accuracy: 0.7650 - val_loss: 0.4580 - val_accuracy: 0.7890\n",
            "Epoch 23/50\n",
            "63/63 [==============================] - 10s 146ms/step - loss: 0.4749 - accuracy: 0.7645 - val_loss: 0.4893 - val_accuracy: 0.7690\n",
            "Epoch 24/50\n",
            "63/63 [==============================] - 10s 147ms/step - loss: 0.4610 - accuracy: 0.7810 - val_loss: 0.4436 - val_accuracy: 0.7990\n",
            "Epoch 25/50\n",
            "63/63 [==============================] - 10s 148ms/step - loss: 0.4399 - accuracy: 0.7975 - val_loss: 0.4389 - val_accuracy: 0.8090\n",
            "Epoch 26/50\n",
            "63/63 [==============================] - 10s 147ms/step - loss: 0.4294 - accuracy: 0.8000 - val_loss: 0.5118 - val_accuracy: 0.7790\n",
            "Epoch 27/50\n",
            "63/63 [==============================] - 9s 146ms/step - loss: 0.4518 - accuracy: 0.7940 - val_loss: 0.4548 - val_accuracy: 0.7950\n",
            "Epoch 28/50\n",
            "63/63 [==============================] - 9s 146ms/step - loss: 0.4235 - accuracy: 0.8050 - val_loss: 0.4475 - val_accuracy: 0.7940\n",
            "Epoch 29/50\n",
            "63/63 [==============================] - 9s 146ms/step - loss: 0.4104 - accuracy: 0.8225 - val_loss: 0.4438 - val_accuracy: 0.8060\n",
            "Epoch 30/50\n",
            "63/63 [==============================] - 10s 148ms/step - loss: 0.3948 - accuracy: 0.8265 - val_loss: 0.4284 - val_accuracy: 0.8100\n",
            "Epoch 31/50\n",
            "63/63 [==============================] - 10s 146ms/step - loss: 0.3911 - accuracy: 0.8230 - val_loss: 0.4563 - val_accuracy: 0.8110\n",
            "Epoch 32/50\n",
            "63/63 [==============================] - 9s 146ms/step - loss: 0.4064 - accuracy: 0.8200 - val_loss: 0.4753 - val_accuracy: 0.7790\n",
            "Epoch 33/50\n",
            "63/63 [==============================] - 9s 146ms/step - loss: 0.3841 - accuracy: 0.8110 - val_loss: 0.4803 - val_accuracy: 0.7890\n",
            "Epoch 34/50\n",
            "63/63 [==============================] - 10s 147ms/step - loss: 0.3873 - accuracy: 0.8250 - val_loss: 0.4191 - val_accuracy: 0.8120\n",
            "Epoch 35/50\n",
            "63/63 [==============================] - 10s 147ms/step - loss: 0.3663 - accuracy: 0.8405 - val_loss: 0.4286 - val_accuracy: 0.8280\n",
            "Epoch 36/50\n",
            "63/63 [==============================] - 9s 145ms/step - loss: 0.3659 - accuracy: 0.8420 - val_loss: 0.4529 - val_accuracy: 0.8060\n",
            "Epoch 37/50\n",
            "63/63 [==============================] - 10s 151ms/step - loss: 0.3362 - accuracy: 0.8535 - val_loss: 0.4126 - val_accuracy: 0.8320\n",
            "Epoch 38/50\n",
            "63/63 [==============================] - 10s 150ms/step - loss: 0.3186 - accuracy: 0.8530 - val_loss: 0.4100 - val_accuracy: 0.8430\n",
            "Epoch 39/50\n",
            "63/63 [==============================] - 10s 149ms/step - loss: 0.3454 - accuracy: 0.8575 - val_loss: 0.3961 - val_accuracy: 0.8430\n",
            "Epoch 40/50\n",
            "63/63 [==============================] - 10s 148ms/step - loss: 0.3469 - accuracy: 0.8490 - val_loss: 0.4418 - val_accuracy: 0.8220\n",
            "Epoch 41/50\n",
            "63/63 [==============================] - 10s 148ms/step - loss: 0.3191 - accuracy: 0.8535 - val_loss: 0.4040 - val_accuracy: 0.8250\n",
            "Epoch 42/50\n",
            "63/63 [==============================] - 10s 146ms/step - loss: 0.3335 - accuracy: 0.8575 - val_loss: 0.3966 - val_accuracy: 0.8340\n",
            "Epoch 43/50\n",
            "63/63 [==============================] - 10s 147ms/step - loss: 0.3383 - accuracy: 0.8575 - val_loss: 0.4217 - val_accuracy: 0.8210\n",
            "Epoch 44/50\n",
            "63/63 [==============================] - 10s 148ms/step - loss: 0.3174 - accuracy: 0.8610 - val_loss: 0.3918 - val_accuracy: 0.8340\n",
            "Epoch 45/50\n",
            "63/63 [==============================] - 9s 146ms/step - loss: 0.2991 - accuracy: 0.8760 - val_loss: 0.4579 - val_accuracy: 0.8140\n",
            "Epoch 46/50\n",
            "63/63 [==============================] - 10s 147ms/step - loss: 0.2921 - accuracy: 0.8730 - val_loss: 0.3861 - val_accuracy: 0.8390\n",
            "Epoch 47/50\n",
            "63/63 [==============================] - 9s 145ms/step - loss: 0.2800 - accuracy: 0.8750 - val_loss: 0.4131 - val_accuracy: 0.8290\n",
            "Epoch 48/50\n",
            "63/63 [==============================] - 9s 145ms/step - loss: 0.2674 - accuracy: 0.8865 - val_loss: 0.4366 - val_accuracy: 0.8340\n",
            "Epoch 49/50\n",
            "63/63 [==============================] - 10s 147ms/step - loss: 0.2895 - accuracy: 0.8760 - val_loss: 0.4982 - val_accuracy: 0.7990\n",
            "Epoch 50/50\n",
            "63/63 [==============================] - 10s 147ms/step - loss: 0.2611 - accuracy: 0.8855 - val_loss: 0.3972 - val_accuracy: 0.8420\n"
          ]
        }
      ]
    },
    {
      "cell_type": "markdown",
      "metadata": {
        "id": "K7R_41A7LJgF"
      },
      "source": [
        "**Evaluating the model on the test set**"
      ]
    },
    {
      "cell_type": "code",
      "metadata": {
        "colab": {
          "base_uri": "https://localhost:8080/"
        },
        "id": "LWMgTFPOLJgF",
        "outputId": "a1f5e159-66c1-4270-d5be-bb46a52325e0"
      },
      "source": [
        "test_model = keras.models.load_model(\n",
        "    \"convnet_from_scratch_with_augmentation.keras\")\n",
        "test_loss, test_acc = test_model.evaluate(test_dataset)\n",
        "print(f\"Test accuracy: {test_acc:.3f}\")"
      ],
      "execution_count": null,
      "outputs": [
        {
          "output_type": "stream",
          "name": "stdout",
          "text": [
            "32/32 [==============================] - 2s 51ms/step - loss: 0.4469 - accuracy: 0.8270\n",
            "Test accuracy: 0.827\n"
          ]
        }
      ]
    },
    {
      "cell_type": "markdown",
      "metadata": {
        "id": "ZBTatsuzYBsL"
      },
      "source": [
        "# Q3. Now change your training sample so that you achieve better performance than those from Steps 1 and 2. This sample size may be larger, or smaller than those in the previous steps. The objective is to find the ideal training sample size to get best prediction results.\n",
        "\n",
        "# Let's increase the Training sample size to 2000 and monitor the results.\n",
        "\n",
        "#### Test Accuracy - 80%\n",
        "\n",
        "#### Training Accuraccy - 89%\n",
        "\n",
        "#### Validation Accuracy - 81.20%\n",
        "\n",
        "\n",
        "# So, the Validation and Test accuracy has decreased when the training sample size is increased from 1500 to 2000. The ideal training sample size is 1500 as per the above observations.\n",
        "\n",
        "\n",
        "\n",
        "\n"
      ]
    },
    {
      "cell_type": "markdown",
      "metadata": {
        "id": "RCwHLictwLGl"
      },
      "source": [
        "### Increasing the training sample to 2000, keeping the Validation and test sets the same as before(500 samples)"
      ]
    },
    {
      "cell_type": "code",
      "metadata": {
        "id": "WNwoFRIWwzCa"
      },
      "source": [
        "original_dir = pathlib.Path(\"train\")\n",
        "new_base_dir = pathlib.Path(\"cats_vs_dogs_small_Q3\")\n",
        "\n",
        "def make_subset(subset_name, start_index, end_index):\n",
        "    for category in (\"cat\", \"dog\"):\n",
        "        dir = new_base_dir / subset_name / category\n",
        "        os.makedirs(dir)\n",
        "        fnames = [f\"{category}.{i}.jpg\" for i in range(start_index, end_index)]\n",
        "        for fname in fnames:\n",
        "            shutil.copyfile(src=original_dir / fname,\n",
        "                            dst=dir / fname)\n",
        "#Creating training, Test and validation sets.\n",
        "#Training has 2000 samples, test has 500 samples and validation has 500 samples.\n",
        "make_subset(\"train\", start_index=0, end_index=2000)\n",
        "make_subset(\"validation\", start_index=2000, end_index=2500)\n",
        "make_subset(\"test\", start_index=2500, end_index=3000)"
      ],
      "execution_count": null,
      "outputs": []
    },
    {
      "cell_type": "markdown",
      "metadata": {
        "id": "q4Dy_A0exWqN"
      },
      "source": [
        "**Defining a new convnet with increased training samples,image augmentation and dropout**"
      ]
    },
    {
      "cell_type": "code",
      "metadata": {
        "id": "2HIQ8cHQxWOF"
      },
      "source": [
        "inputs = keras.Input(shape=(180, 180, 3))\n",
        "x = data_augmentation(inputs)\n",
        "x = layers.Rescaling(1./255)(x)\n",
        "x = layers.Conv2D(filters=32, kernel_size=3, activation=\"relu\")(x)\n",
        "x = layers.MaxPooling2D(pool_size=2)(x)\n",
        "x = layers.Conv2D(filters=64, kernel_size=3, activation=\"relu\")(x)\n",
        "x = layers.MaxPooling2D(pool_size=2)(x)\n",
        "x = layers.Conv2D(filters=128, kernel_size=3, activation=\"relu\")(x)\n",
        "x = layers.MaxPooling2D(pool_size=2)(x)\n",
        "x = layers.Conv2D(filters=256, kernel_size=3, activation=\"relu\")(x)\n",
        "x = layers.MaxPooling2D(pool_size=2)(x)\n",
        "x = layers.Conv2D(filters=256, kernel_size=3, activation=\"relu\")(x)\n",
        "x = layers.Flatten()(x)\n",
        "x = layers.Dropout(0.5)(x)\n",
        "outputs = layers.Dense(1, activation=\"sigmoid\")(x)\n",
        "model = keras.Model(inputs=inputs, outputs=outputs)\n",
        "\n",
        "model.compile(loss=\"binary_crossentropy\",\n",
        "              optimizer=\"adam\",\n",
        "              metrics=[\"accuracy\"])"
      ],
      "execution_count": null,
      "outputs": []
    },
    {
      "cell_type": "code",
      "metadata": {
        "colab": {
          "base_uri": "https://localhost:8080/"
        },
        "id": "TC3vdZWhQLu3",
        "outputId": "e9ca2331-60ec-4839-d085-4628587ec9a9"
      },
      "source": [
        "callbacks = [\n",
        "    keras.callbacks.ModelCheckpoint(\n",
        "        filepath=\"convnet_from_scratch_with_augmentation1.keras\",\n",
        "        save_best_only=True,\n",
        "        monitor=\"val_loss\")\n",
        "]\n",
        "history = model.fit(\n",
        "    train_dataset,\n",
        "    epochs=50,\n",
        "    validation_data=validation_dataset,\n",
        "    callbacks=callbacks)"
      ],
      "execution_count": null,
      "outputs": [
        {
          "output_type": "stream",
          "name": "stdout",
          "text": [
            "Epoch 1/50\n",
            "63/63 [==============================] - 11s 152ms/step - loss: 0.6923 - accuracy: 0.5235 - val_loss: 0.6704 - val_accuracy: 0.5660\n",
            "Epoch 2/50\n",
            "63/63 [==============================] - 10s 147ms/step - loss: 0.6838 - accuracy: 0.5335 - val_loss: 0.6912 - val_accuracy: 0.5000\n",
            "Epoch 3/50\n",
            "63/63 [==============================] - 10s 147ms/step - loss: 0.6880 - accuracy: 0.5310 - val_loss: 0.6944 - val_accuracy: 0.4710\n",
            "Epoch 4/50\n",
            "63/63 [==============================] - 10s 149ms/step - loss: 0.6716 - accuracy: 0.5925 - val_loss: 0.6627 - val_accuracy: 0.6060\n",
            "Epoch 5/50\n",
            "63/63 [==============================] - 10s 148ms/step - loss: 0.6803 - accuracy: 0.5780 - val_loss: 0.9576 - val_accuracy: 0.5210\n",
            "Epoch 6/50\n",
            "63/63 [==============================] - 10s 146ms/step - loss: 0.6524 - accuracy: 0.6225 - val_loss: 0.7936 - val_accuracy: 0.5630\n",
            "Epoch 7/50\n",
            "63/63 [==============================] - 10s 147ms/step - loss: 0.6622 - accuracy: 0.6145 - val_loss: 0.6319 - val_accuracy: 0.6280\n",
            "Epoch 8/50\n",
            "63/63 [==============================] - 10s 158ms/step - loss: 0.6319 - accuracy: 0.6420 - val_loss: 0.6456 - val_accuracy: 0.6330\n",
            "Epoch 9/50\n",
            "63/63 [==============================] - 10s 148ms/step - loss: 0.6447 - accuracy: 0.6365 - val_loss: 0.6031 - val_accuracy: 0.6680\n",
            "Epoch 10/50\n",
            "63/63 [==============================] - 10s 148ms/step - loss: 0.6246 - accuracy: 0.6555 - val_loss: 0.5988 - val_accuracy: 0.6670\n",
            "Epoch 11/50\n",
            "63/63 [==============================] - 10s 148ms/step - loss: 0.6142 - accuracy: 0.6660 - val_loss: 0.5937 - val_accuracy: 0.6710\n",
            "Epoch 12/50\n",
            "63/63 [==============================] - 10s 148ms/step - loss: 0.5993 - accuracy: 0.6900 - val_loss: 0.5570 - val_accuracy: 0.7070\n",
            "Epoch 13/50\n",
            "63/63 [==============================] - 9s 145ms/step - loss: 0.5915 - accuracy: 0.7010 - val_loss: 0.5961 - val_accuracy: 0.6760\n",
            "Epoch 14/50\n",
            "63/63 [==============================] - 10s 147ms/step - loss: 0.5614 - accuracy: 0.7110 - val_loss: 0.5453 - val_accuracy: 0.7130\n",
            "Epoch 15/50\n",
            "63/63 [==============================] - 10s 147ms/step - loss: 0.5541 - accuracy: 0.7105 - val_loss: 0.5344 - val_accuracy: 0.7240\n",
            "Epoch 16/50\n",
            "63/63 [==============================] - 9s 145ms/step - loss: 0.5199 - accuracy: 0.7505 - val_loss: 0.6430 - val_accuracy: 0.6710\n",
            "Epoch 17/50\n",
            "63/63 [==============================] - 10s 149ms/step - loss: 0.5161 - accuracy: 0.7435 - val_loss: 0.5025 - val_accuracy: 0.7400\n",
            "Epoch 18/50\n",
            "63/63 [==============================] - 10s 147ms/step - loss: 0.5182 - accuracy: 0.7460 - val_loss: 0.5087 - val_accuracy: 0.7490\n",
            "Epoch 19/50\n",
            "63/63 [==============================] - 10s 147ms/step - loss: 0.5130 - accuracy: 0.7350 - val_loss: 0.5298 - val_accuracy: 0.7380\n",
            "Epoch 20/50\n",
            "63/63 [==============================] - 10s 148ms/step - loss: 0.4964 - accuracy: 0.7660 - val_loss: 0.5200 - val_accuracy: 0.7350\n",
            "Epoch 21/50\n",
            "63/63 [==============================] - 10s 148ms/step - loss: 0.4688 - accuracy: 0.7815 - val_loss: 0.4839 - val_accuracy: 0.7700\n",
            "Epoch 22/50\n",
            "63/63 [==============================] - 10s 147ms/step - loss: 0.4683 - accuracy: 0.7805 - val_loss: 0.5093 - val_accuracy: 0.7640\n",
            "Epoch 23/50\n",
            "63/63 [==============================] - 10s 148ms/step - loss: 0.4804 - accuracy: 0.7765 - val_loss: 0.5227 - val_accuracy: 0.7340\n",
            "Epoch 24/50\n",
            "63/63 [==============================] - 10s 149ms/step - loss: 0.4638 - accuracy: 0.7765 - val_loss: 0.4597 - val_accuracy: 0.7700\n",
            "Epoch 25/50\n",
            "63/63 [==============================] - 10s 148ms/step - loss: 0.4677 - accuracy: 0.7785 - val_loss: 0.4755 - val_accuracy: 0.7700\n",
            "Epoch 26/50\n",
            "63/63 [==============================] - 10s 147ms/step - loss: 0.4231 - accuracy: 0.8005 - val_loss: 0.4891 - val_accuracy: 0.7790\n",
            "Epoch 27/50\n",
            "63/63 [==============================] - 10s 149ms/step - loss: 0.4453 - accuracy: 0.7895 - val_loss: 0.4854 - val_accuracy: 0.7590\n",
            "Epoch 28/50\n",
            "63/63 [==============================] - 10s 148ms/step - loss: 0.4325 - accuracy: 0.7950 - val_loss: 0.5796 - val_accuracy: 0.7390\n",
            "Epoch 29/50\n",
            "63/63 [==============================] - 10s 147ms/step - loss: 0.4312 - accuracy: 0.7960 - val_loss: 0.5427 - val_accuracy: 0.7580\n",
            "Epoch 30/50\n",
            "63/63 [==============================] - 10s 149ms/step - loss: 0.4248 - accuracy: 0.7975 - val_loss: 0.4618 - val_accuracy: 0.7870\n",
            "Epoch 31/50\n",
            "63/63 [==============================] - 10s 150ms/step - loss: 0.4074 - accuracy: 0.8075 - val_loss: 0.4729 - val_accuracy: 0.8110\n",
            "Epoch 32/50\n",
            "63/63 [==============================] - 10s 150ms/step - loss: 0.3957 - accuracy: 0.8230 - val_loss: 0.4589 - val_accuracy: 0.7850\n",
            "Epoch 33/50\n",
            "63/63 [==============================] - 10s 148ms/step - loss: 0.3976 - accuracy: 0.8245 - val_loss: 0.4719 - val_accuracy: 0.8050\n",
            "Epoch 34/50\n",
            "63/63 [==============================] - 10s 149ms/step - loss: 0.3826 - accuracy: 0.8260 - val_loss: 0.4858 - val_accuracy: 0.8060\n",
            "Epoch 35/50\n",
            "63/63 [==============================] - 10s 150ms/step - loss: 0.3635 - accuracy: 0.8335 - val_loss: 0.4580 - val_accuracy: 0.8080\n",
            "Epoch 36/50\n",
            "63/63 [==============================] - 10s 149ms/step - loss: 0.3547 - accuracy: 0.8455 - val_loss: 0.4495 - val_accuracy: 0.8100\n",
            "Epoch 37/50\n",
            "63/63 [==============================] - 10s 147ms/step - loss: 0.3882 - accuracy: 0.8240 - val_loss: 0.8059 - val_accuracy: 0.6960\n",
            "Epoch 38/50\n",
            "63/63 [==============================] - 10s 148ms/step - loss: 0.3772 - accuracy: 0.8380 - val_loss: 0.4210 - val_accuracy: 0.8140\n",
            "Epoch 39/50\n",
            "63/63 [==============================] - 10s 148ms/step - loss: 0.3344 - accuracy: 0.8540 - val_loss: 0.4123 - val_accuracy: 0.8080\n",
            "Epoch 40/50\n",
            "63/63 [==============================] - 10s 147ms/step - loss: 0.3912 - accuracy: 0.8280 - val_loss: 0.4228 - val_accuracy: 0.8110\n",
            "Epoch 41/50\n",
            "63/63 [==============================] - 10s 148ms/step - loss: 0.3267 - accuracy: 0.8525 - val_loss: 0.4504 - val_accuracy: 0.8130\n",
            "Epoch 42/50\n",
            "63/63 [==============================] - 10s 148ms/step - loss: 0.3366 - accuracy: 0.8565 - val_loss: 0.4449 - val_accuracy: 0.8150\n",
            "Epoch 43/50\n",
            "63/63 [==============================] - 10s 148ms/step - loss: 0.3264 - accuracy: 0.8640 - val_loss: 0.4615 - val_accuracy: 0.8220\n",
            "Epoch 44/50\n",
            "63/63 [==============================] - 10s 148ms/step - loss: 0.2964 - accuracy: 0.8805 - val_loss: 0.4966 - val_accuracy: 0.8060\n",
            "Epoch 45/50\n",
            "63/63 [==============================] - 10s 148ms/step - loss: 0.3311 - accuracy: 0.8505 - val_loss: 0.4174 - val_accuracy: 0.8290\n",
            "Epoch 46/50\n",
            "63/63 [==============================] - 10s 147ms/step - loss: 0.3127 - accuracy: 0.8700 - val_loss: 0.4786 - val_accuracy: 0.8200\n",
            "Epoch 47/50\n",
            "63/63 [==============================] - 10s 147ms/step - loss: 0.3391 - accuracy: 0.8490 - val_loss: 0.4648 - val_accuracy: 0.8160\n",
            "Epoch 48/50\n",
            "63/63 [==============================] - 10s 148ms/step - loss: 0.3016 - accuracy: 0.8565 - val_loss: 0.4327 - val_accuracy: 0.8310\n",
            "Epoch 49/50\n",
            "63/63 [==============================] - 10s 147ms/step - loss: 0.3021 - accuracy: 0.8730 - val_loss: 0.4328 - val_accuracy: 0.8290\n",
            "Epoch 50/50\n",
            "63/63 [==============================] - 10s 148ms/step - loss: 0.2664 - accuracy: 0.8905 - val_loss: 0.5362 - val_accuracy: 0.8130\n"
          ]
        }
      ]
    },
    {
      "cell_type": "code",
      "metadata": {
        "colab": {
          "base_uri": "https://localhost:8080/"
        },
        "id": "dl-PYvrHR2GC",
        "outputId": "04888985-6910-4fc3-ebf9-d4a37ca562bb"
      },
      "source": [
        "test_model = keras.models.load_model(\n",
        "    \"convnet_from_scratch_with_augmentation1.keras\")\n",
        "test_loss, test_acc = test_model.evaluate(test_dataset)\n",
        "print(f\"Test accuracy: {test_acc:.3f}\")"
      ],
      "execution_count": null,
      "outputs": [
        {
          "output_type": "stream",
          "name": "stdout",
          "text": [
            "32/32 [==============================] - 2s 51ms/step - loss: 0.4678 - accuracy: 0.8020\n",
            "Test accuracy: 0.802\n"
          ]
        }
      ]
    },
    {
      "cell_type": "markdown",
      "metadata": {
        "id": "LrPR3elMLJgF"
      },
      "source": [
        "#Q4. Repeat Steps 1-3, but now using a pretrained network. The sample sizes you use in Steps 2 and 3 for the pretrained network may be the same or different from those using the network where you trained from scratch. Again, use any and all optimization techniques to get best performance.\n",
        "\n",
        "\n",
        "## Summary\n",
        "\n",
        "### Using a Pre-trained model without Augmentation\n",
        "\n",
        "#### We reach a validation accuracy of about 97.30% which is better than what we achieved while training the small model from scratch. However, the plots also indicate that we’re overfitting almost from the start—despite using dropout with a fairly large rate. \n",
        "\n",
        "\n",
        "### Using a Pre-trained model without Augmentation\n",
        "\n",
        "#### A model’s accuracy always depends on the set of samples one evaluates it on! Some sample sets may be more difficult than others, and strong results on one set won’t necessarily fully translate to all other sets. because of this reason, Pretrained model With Augmentation, there was just a minor increase in the accuracy from 97.30% to 98.10%.\n",
        "\n"
      ]
    },
    {
      "cell_type": "markdown",
      "metadata": {
        "id": "j69jWRr_LJgF"
      },
      "source": [
        "### Feature extraction with a pretrained model\n",
        "\n",
        "#### Feature extraction means using the representations learned by a previously trained model (ImageNet, in our case) to extract interesting features from new samples. These features are then run through a new classifier, which is trained from scratch."
      ]
    },
    {
      "cell_type": "markdown",
      "metadata": {
        "id": "zz2pq2ajLJgG"
      },
      "source": [
        "**Instantiating the VGG16 convolutional base**"
      ]
    },
    {
      "cell_type": "code",
      "metadata": {
        "id": "skbTdg2GLJgG",
        "colab": {
          "base_uri": "https://localhost:8080/"
        },
        "outputId": "1ba7e025-6a45-4cd5-8ec6-8cd860872fa8"
      },
      "source": [
        "conv_base = keras.applications.vgg16.VGG16(\n",
        "    weights=\"imagenet\",\n",
        "    include_top=False,\n",
        "    input_shape=(180, 180, 3))"
      ],
      "execution_count": null,
      "outputs": [
        {
          "output_type": "stream",
          "name": "stdout",
          "text": [
            "Downloading data from https://storage.googleapis.com/tensorflow/keras-applications/vgg16/vgg16_weights_tf_dim_ordering_tf_kernels_notop.h5\n",
            "58892288/58889256 [==============================] - 0s 0us/step\n",
            "58900480/58889256 [==============================] - 0s 0us/step\n"
          ]
        }
      ]
    },
    {
      "cell_type": "code",
      "metadata": {
        "id": "pE4zRVz7LJgG",
        "colab": {
          "base_uri": "https://localhost:8080/"
        },
        "outputId": "6d185415-85a6-4186-90ec-6ab481b2bdac"
      },
      "source": [
        "conv_base.summary()"
      ],
      "execution_count": null,
      "outputs": [
        {
          "output_type": "stream",
          "name": "stdout",
          "text": [
            "Model: \"vgg16\"\n",
            "_________________________________________________________________\n",
            " Layer (type)                Output Shape              Param #   \n",
            "=================================================================\n",
            " input_4 (InputLayer)        [(None, 180, 180, 3)]     0         \n",
            "                                                                 \n",
            " block1_conv1 (Conv2D)       (None, 180, 180, 64)      1792      \n",
            "                                                                 \n",
            " block1_conv2 (Conv2D)       (None, 180, 180, 64)      36928     \n",
            "                                                                 \n",
            " block1_pool (MaxPooling2D)  (None, 90, 90, 64)        0         \n",
            "                                                                 \n",
            " block2_conv1 (Conv2D)       (None, 90, 90, 128)       73856     \n",
            "                                                                 \n",
            " block2_conv2 (Conv2D)       (None, 90, 90, 128)       147584    \n",
            "                                                                 \n",
            " block2_pool (MaxPooling2D)  (None, 45, 45, 128)       0         \n",
            "                                                                 \n",
            " block3_conv1 (Conv2D)       (None, 45, 45, 256)       295168    \n",
            "                                                                 \n",
            " block3_conv2 (Conv2D)       (None, 45, 45, 256)       590080    \n",
            "                                                                 \n",
            " block3_conv3 (Conv2D)       (None, 45, 45, 256)       590080    \n",
            "                                                                 \n",
            " block3_pool (MaxPooling2D)  (None, 22, 22, 256)       0         \n",
            "                                                                 \n",
            " block4_conv1 (Conv2D)       (None, 22, 22, 512)       1180160   \n",
            "                                                                 \n",
            " block4_conv2 (Conv2D)       (None, 22, 22, 512)       2359808   \n",
            "                                                                 \n",
            " block4_conv3 (Conv2D)       (None, 22, 22, 512)       2359808   \n",
            "                                                                 \n",
            " block4_pool (MaxPooling2D)  (None, 11, 11, 512)       0         \n",
            "                                                                 \n",
            " block5_conv1 (Conv2D)       (None, 11, 11, 512)       2359808   \n",
            "                                                                 \n",
            " block5_conv2 (Conv2D)       (None, 11, 11, 512)       2359808   \n",
            "                                                                 \n",
            " block5_conv3 (Conv2D)       (None, 11, 11, 512)       2359808   \n",
            "                                                                 \n",
            " block5_pool (MaxPooling2D)  (None, 5, 5, 512)         0         \n",
            "                                                                 \n",
            "=================================================================\n",
            "Total params: 14,714,688\n",
            "Trainable params: 14,714,688\n",
            "Non-trainable params: 0\n",
            "_________________________________________________________________\n"
          ]
        }
      ]
    },
    {
      "cell_type": "markdown",
      "metadata": {
        "id": "SfdIeb-CLJgG"
      },
      "source": [
        "### Feature extraction without data augmentation using a pretrained model"
      ]
    },
    {
      "cell_type": "markdown",
      "metadata": {
        "id": "IuoRUabiLJgG"
      },
      "source": [
        "**Extracting the VGG16 features and corresponding labels**"
      ]
    },
    {
      "cell_type": "code",
      "metadata": {
        "id": "diN5BO8WLJgG"
      },
      "source": [
        "import numpy as np\n",
        "\n",
        "def get_features_and_labels(dataset):\n",
        "    all_features = []\n",
        "    all_labels = []\n",
        "    for images, labels in dataset:\n",
        "        preprocessed_images = keras.applications.vgg16.preprocess_input(images)\n",
        "        features = conv_base.predict(preprocessed_images)\n",
        "        all_features.append(features)\n",
        "        all_labels.append(labels)\n",
        "    return np.concatenate(all_features), np.concatenate(all_labels)\n",
        "\n",
        "train_features, train_labels =  get_features_and_labels(train_dataset)\n",
        "val_features, val_labels =  get_features_and_labels(validation_dataset)\n",
        "test_features, test_labels =  get_features_and_labels(test_dataset)"
      ],
      "execution_count": null,
      "outputs": []
    },
    {
      "cell_type": "code",
      "metadata": {
        "id": "Sfa_c6LQLJgG",
        "colab": {
          "base_uri": "https://localhost:8080/"
        },
        "outputId": "1b44ebbc-3573-4b4a-fced-e4fdd7b20c58"
      },
      "source": [
        "train_features.shape"
      ],
      "execution_count": null,
      "outputs": [
        {
          "output_type": "execute_result",
          "data": {
            "text/plain": [
              "(2000, 5, 5, 512)"
            ]
          },
          "metadata": {},
          "execution_count": 34
        }
      ]
    },
    {
      "cell_type": "markdown",
      "metadata": {
        "id": "3hK0qBZZLJgH"
      },
      "source": [
        "**Defining and training the densely connected classifier**"
      ]
    },
    {
      "cell_type": "code",
      "metadata": {
        "id": "taVrYpkcLJgH",
        "colab": {
          "base_uri": "https://localhost:8080/"
        },
        "outputId": "b20b1a1c-9701-4bbc-b431-f35a6c8cefea"
      },
      "source": [
        "inputs = keras.Input(shape=(5, 5, 512))\n",
        "x = layers.Flatten()(inputs)\n",
        "x = layers.Dense(256)(x)\n",
        "x = layers.Dropout(0.5)(x)\n",
        "outputs = layers.Dense(1, activation=\"sigmoid\")(x)\n",
        "model = keras.Model(inputs, outputs)\n",
        "model.compile(loss=\"binary_crossentropy\",\n",
        "              optimizer=\"rmsprop\",\n",
        "              metrics=[\"accuracy\"])\n",
        "\n",
        "callbacks = [\n",
        "    keras.callbacks.ModelCheckpoint(\n",
        "      filepath=\"feature_extraction.keras\",\n",
        "      save_best_only=True,\n",
        "      monitor=\"val_loss\")\n",
        "]\n",
        "history = model.fit(\n",
        "    train_features, train_labels,\n",
        "    epochs=20,\n",
        "    validation_data=(val_features, val_labels),\n",
        "    callbacks=callbacks)"
      ],
      "execution_count": null,
      "outputs": [
        {
          "output_type": "stream",
          "name": "stdout",
          "text": [
            "Epoch 1/20\n",
            "63/63 [==============================] - 2s 14ms/step - loss: 14.7583 - accuracy: 0.9280 - val_loss: 6.0208 - val_accuracy: 0.9650\n",
            "Epoch 2/20\n",
            "63/63 [==============================] - 1s 9ms/step - loss: 4.2271 - accuracy: 0.9725 - val_loss: 14.2351 - val_accuracy: 0.9430\n",
            "Epoch 3/20\n",
            "63/63 [==============================] - 1s 9ms/step - loss: 1.8967 - accuracy: 0.9845 - val_loss: 13.4930 - val_accuracy: 0.9390\n",
            "Epoch 4/20\n",
            "63/63 [==============================] - 1s 9ms/step - loss: 0.7578 - accuracy: 0.9925 - val_loss: 9.0612 - val_accuracy: 0.9620\n",
            "Epoch 5/20\n",
            "63/63 [==============================] - 1s 10ms/step - loss: 0.8752 - accuracy: 0.9930 - val_loss: 8.0139 - val_accuracy: 0.9600\n",
            "Epoch 6/20\n",
            "63/63 [==============================] - 1s 10ms/step - loss: 0.9456 - accuracy: 0.9920 - val_loss: 8.0784 - val_accuracy: 0.9700\n",
            "Epoch 7/20\n",
            "63/63 [==============================] - 1s 10ms/step - loss: 0.5039 - accuracy: 0.9950 - val_loss: 5.1372 - val_accuracy: 0.9730\n",
            "Epoch 8/20\n",
            "63/63 [==============================] - 1s 12ms/step - loss: 0.1370 - accuracy: 0.9990 - val_loss: 4.3763 - val_accuracy: 0.9780\n",
            "Epoch 9/20\n",
            "63/63 [==============================] - 1s 9ms/step - loss: 0.2133 - accuracy: 0.9955 - val_loss: 5.4650 - val_accuracy: 0.9750\n",
            "Epoch 10/20\n",
            "63/63 [==============================] - 1s 10ms/step - loss: 0.6811 - accuracy: 0.9950 - val_loss: 6.0775 - val_accuracy: 0.9740\n",
            "Epoch 11/20\n",
            "63/63 [==============================] - 1s 9ms/step - loss: 0.4812 - accuracy: 0.9965 - val_loss: 5.7142 - val_accuracy: 0.9730\n",
            "Epoch 12/20\n",
            "63/63 [==============================] - 1s 9ms/step - loss: 0.1247 - accuracy: 0.9990 - val_loss: 5.6397 - val_accuracy: 0.9730\n",
            "Epoch 13/20\n",
            "63/63 [==============================] - 1s 10ms/step - loss: 0.4475 - accuracy: 0.9965 - val_loss: 7.0145 - val_accuracy: 0.9740\n",
            "Epoch 14/20\n",
            "63/63 [==============================] - 1s 10ms/step - loss: 3.4977e-04 - accuracy: 0.9995 - val_loss: 8.0049 - val_accuracy: 0.9680\n",
            "Epoch 15/20\n",
            "63/63 [==============================] - 1s 10ms/step - loss: 0.3622 - accuracy: 0.9965 - val_loss: 5.4304 - val_accuracy: 0.9780\n",
            "Epoch 16/20\n",
            "63/63 [==============================] - 1s 9ms/step - loss: 0.1715 - accuracy: 0.9985 - val_loss: 4.7423 - val_accuracy: 0.9770\n",
            "Epoch 17/20\n",
            "63/63 [==============================] - 1s 9ms/step - loss: 0.0340 - accuracy: 0.9995 - val_loss: 6.8775 - val_accuracy: 0.9740\n",
            "Epoch 18/20\n",
            "63/63 [==============================] - 1s 9ms/step - loss: 0.3086 - accuracy: 0.9980 - val_loss: 5.0523 - val_accuracy: 0.9730\n",
            "Epoch 19/20\n",
            "63/63 [==============================] - 1s 10ms/step - loss: 3.0918e-05 - accuracy: 1.0000 - val_loss: 5.6981 - val_accuracy: 0.9740\n",
            "Epoch 20/20\n",
            "63/63 [==============================] - 1s 9ms/step - loss: 0.0203 - accuracy: 0.9995 - val_loss: 6.3654 - val_accuracy: 0.9730\n"
          ]
        }
      ]
    },
    {
      "cell_type": "markdown",
      "metadata": {
        "id": "OIgzvXnHLJgH"
      },
      "source": [
        "**Plotting the results**"
      ]
    },
    {
      "cell_type": "code",
      "metadata": {
        "id": "8_s5AqAjLJgH",
        "colab": {
          "base_uri": "https://localhost:8080/",
          "height": 545
        },
        "outputId": "0c5d8c00-92ce-4082-cd62-e401201f31b2"
      },
      "source": [
        "import matplotlib.pyplot as plt\n",
        "acc = history.history[\"accuracy\"]\n",
        "val_acc = history.history[\"val_accuracy\"]\n",
        "loss = history.history[\"loss\"]\n",
        "val_loss = history.history[\"val_loss\"]\n",
        "epochs = range(1, len(acc) + 1)\n",
        "plt.plot(epochs, acc, \"bo\", label=\"Training accuracy\")\n",
        "plt.plot(epochs, val_acc, \"b\", label=\"Validation accuracy\")\n",
        "plt.title(\"Training and validation accuracy\")\n",
        "plt.legend()\n",
        "plt.figure()\n",
        "plt.plot(epochs, loss, \"bo\", label=\"Training loss\")\n",
        "plt.plot(epochs, val_loss, \"b\", label=\"Validation loss\")\n",
        "plt.title(\"Training and validation loss\")\n",
        "plt.legend()\n",
        "plt.show()"
      ],
      "execution_count": null,
      "outputs": [
        {
          "output_type": "display_data",
          "data": {
            "text/plain": [
              "<Figure size 432x288 with 1 Axes>"
            ],
            "image/png": "[encoded data removed]"
          },
          "metadata": {
            "needs_background": "light"
          }
        },
        {
          "output_type": "display_data",
          "data": {
            "text/plain": [
              "<Figure size 432x288 with 1 Axes>"
            ],
            "image/png": "[encoded data removed]"
          },
          "metadata": {
            "needs_background": "light"
          }
        }
      ]
    },
    {
      "cell_type": "markdown",
      "metadata": {
        "id": "0XzEsaqmLJgH"
      },
      "source": [
        "### Feature extraction with data augmentation using a pretrained model"
      ]
    },
    {
      "cell_type": "markdown",
      "metadata": {
        "id": "xbNGfHSmLJgH"
      },
      "source": [
        "**Instantiating and freezing the VGG16 convolutional base**"
      ]
    },
    {
      "cell_type": "code",
      "metadata": {
        "id": "4dQb9DQCLJgI"
      },
      "source": [
        "conv_base  = keras.applications.vgg16.VGG16(\n",
        "    weights=\"imagenet\",\n",
        "    include_top=False)\n",
        "conv_base.trainable = False"
      ],
      "execution_count": null,
      "outputs": []
    },
    {
      "cell_type": "markdown",
      "metadata": {
        "id": "lo4EDoRLLJgI"
      },
      "source": [
        "**Printing the list of trainable weights before and after freezing**"
      ]
    },
    {
      "cell_type": "code",
      "metadata": {
        "id": "uXuWbLaXLJgI",
        "colab": {
          "base_uri": "https://localhost:8080/"
        },
        "outputId": "682be4ee-5112-4a50-fdbf-b53a4dc3b44b"
      },
      "source": [
        "conv_base.trainable = True\n",
        "print(\"This is the number of trainable weights \"\n",
        "      \"before freezing the conv base:\", len(conv_base.trainable_weights))"
      ],
      "execution_count": null,
      "outputs": [
        {
          "output_type": "stream",
          "name": "stdout",
          "text": [
            "This is the number of trainable weights before freezing the conv base: 26\n"
          ]
        }
      ]
    },
    {
      "cell_type": "code",
      "metadata": {
        "id": "ymDWZ8j4LJgI",
        "colab": {
          "base_uri": "https://localhost:8080/"
        },
        "outputId": "12527c9a-c172-40d2-9ecb-88def8efadb6"
      },
      "source": [
        "conv_base.trainable = False\n",
        "print(\"This is the number of trainable weights \"\n",
        "      \"after freezing the conv base:\", len(conv_base.trainable_weights))"
      ],
      "execution_count": null,
      "outputs": [
        {
          "output_type": "stream",
          "name": "stdout",
          "text": [
            "This is the number of trainable weights after freezing the conv base: 0\n"
          ]
        }
      ]
    },
    {
      "cell_type": "markdown",
      "metadata": {
        "id": "23uNfxn6LJgI"
      },
      "source": [
        "**Adding a data augmentation stage and a classifier to the convolutional base**"
      ]
    },
    {
      "cell_type": "code",
      "metadata": {
        "id": "VNgRDR0hLJgI"
      },
      "source": [
        "data_augmentation = keras.Sequential(\n",
        "    [\n",
        "        layers.RandomFlip(\"horizontal\"),\n",
        "        layers.RandomRotation(0.1),\n",
        "        layers.RandomZoom(0.2),\n",
        "    ]\n",
        ")\n",
        "\n",
        "inputs = keras.Input(shape=(180, 180, 3))\n",
        "x = data_augmentation(inputs)\n",
        "x = keras.applications.vgg16.preprocess_input(x)\n",
        "x = conv_base(x)\n",
        "x = layers.Flatten()(x)\n",
        "x = layers.Dense(256)(x)\n",
        "x = layers.Dropout(0.5)(x)\n",
        "outputs = layers.Dense(1, activation=\"sigmoid\")(x)\n",
        "model = keras.Model(inputs, outputs)\n",
        "model.compile(loss=\"binary_crossentropy\",\n",
        "              optimizer=\"rmsprop\",\n",
        "              metrics=[\"accuracy\"])"
      ],
      "execution_count": null,
      "outputs": []
    },
    {
      "cell_type": "code",
      "metadata": {
        "id": "rktZ-i64LJgI",
        "colab": {
          "base_uri": "https://localhost:8080/"
        },
        "outputId": "c14b7ae7-e36a-4752-f7f2-38a6b8e32698"
      },
      "source": [
        "callbacks = [\n",
        "    keras.callbacks.ModelCheckpoint(\n",
        "        filepath=\"feature_extraction_with_data_augmentation.keras\",\n",
        "        save_best_only=True,\n",
        "        monitor=\"val_loss\")\n",
        "]\n",
        "history = model.fit(\n",
        "    train_dataset,\n",
        "    epochs=50,\n",
        "    validation_data=validation_dataset,\n",
        "    callbacks=callbacks)"
      ],
      "execution_count": null,
      "outputs": [
        {
          "output_type": "stream",
          "name": "stdout",
          "text": [
            "Epoch 1/50\n",
            "63/63 [==============================] - 29s 438ms/step - loss: 19.3596 - accuracy: 0.8930 - val_loss: 13.2364 - val_accuracy: 0.9190\n",
            "Epoch 2/50\n",
            "63/63 [==============================] - 27s 430ms/step - loss: 6.4584 - accuracy: 0.9465 - val_loss: 4.4460 - val_accuracy: 0.9690\n",
            "Epoch 3/50\n",
            "63/63 [==============================] - 27s 426ms/step - loss: 6.6738 - accuracy: 0.9500 - val_loss: 6.7322 - val_accuracy: 0.9640\n",
            "Epoch 4/50\n",
            "63/63 [==============================] - 27s 429ms/step - loss: 4.3443 - accuracy: 0.9650 - val_loss: 3.2013 - val_accuracy: 0.9740\n",
            "Epoch 5/50\n",
            "63/63 [==============================] - 27s 426ms/step - loss: 5.0478 - accuracy: 0.9590 - val_loss: 3.3833 - val_accuracy: 0.9740\n",
            "Epoch 6/50\n",
            "63/63 [==============================] - 27s 426ms/step - loss: 4.3858 - accuracy: 0.9600 - val_loss: 4.4004 - val_accuracy: 0.9750\n",
            "Epoch 7/50\n",
            "63/63 [==============================] - 27s 425ms/step - loss: 2.4976 - accuracy: 0.9740 - val_loss: 4.5388 - val_accuracy: 0.9720\n",
            "Epoch 8/50\n",
            "63/63 [==============================] - 27s 426ms/step - loss: 2.6681 - accuracy: 0.9755 - val_loss: 4.0317 - val_accuracy: 0.9730\n",
            "Epoch 9/50\n",
            "63/63 [==============================] - 27s 426ms/step - loss: 2.8000 - accuracy: 0.9725 - val_loss: 3.6130 - val_accuracy: 0.9740\n",
            "Epoch 10/50\n",
            "63/63 [==============================] - 27s 425ms/step - loss: 2.7063 - accuracy: 0.9730 - val_loss: 3.7349 - val_accuracy: 0.9770\n",
            "Epoch 11/50\n",
            "63/63 [==============================] - 27s 426ms/step - loss: 1.6292 - accuracy: 0.9790 - val_loss: 4.3441 - val_accuracy: 0.9760\n",
            "Epoch 12/50\n",
            "63/63 [==============================] - 27s 426ms/step - loss: 2.0961 - accuracy: 0.9765 - val_loss: 6.7874 - val_accuracy: 0.9600\n",
            "Epoch 13/50\n",
            "63/63 [==============================] - 27s 425ms/step - loss: 2.5355 - accuracy: 0.9735 - val_loss: 3.8962 - val_accuracy: 0.9790\n",
            "Epoch 14/50\n",
            "63/63 [==============================] - 27s 426ms/step - loss: 1.8888 - accuracy: 0.9795 - val_loss: 3.2601 - val_accuracy: 0.9800\n",
            "Epoch 15/50\n",
            "63/63 [==============================] - 27s 427ms/step - loss: 1.1232 - accuracy: 0.9855 - val_loss: 3.5789 - val_accuracy: 0.9740\n",
            "Epoch 16/50\n",
            "63/63 [==============================] - 27s 431ms/step - loss: 1.1324 - accuracy: 0.9810 - val_loss: 2.9205 - val_accuracy: 0.9760\n",
            "Epoch 17/50\n",
            "63/63 [==============================] - 27s 426ms/step - loss: 1.5561 - accuracy: 0.9800 - val_loss: 3.2509 - val_accuracy: 0.9780\n",
            "Epoch 18/50\n",
            "63/63 [==============================] - 27s 425ms/step - loss: 1.0261 - accuracy: 0.9825 - val_loss: 4.7126 - val_accuracy: 0.9670\n",
            "Epoch 19/50\n",
            "63/63 [==============================] - 27s 430ms/step - loss: 1.6062 - accuracy: 0.9840 - val_loss: 2.4624 - val_accuracy: 0.9790\n",
            "Epoch 20/50\n",
            "63/63 [==============================] - 27s 430ms/step - loss: 1.5466 - accuracy: 0.9800 - val_loss: 2.1331 - val_accuracy: 0.9800\n",
            "Epoch 21/50\n",
            "63/63 [==============================] - 27s 426ms/step - loss: 1.4429 - accuracy: 0.9750 - val_loss: 2.4063 - val_accuracy: 0.9810\n",
            "Epoch 22/50\n",
            "63/63 [==============================] - 27s 425ms/step - loss: 1.7971 - accuracy: 0.9740 - val_loss: 8.5146 - val_accuracy: 0.9470\n",
            "Epoch 23/50\n",
            "63/63 [==============================] - 27s 426ms/step - loss: 0.8459 - accuracy: 0.9865 - val_loss: 3.0180 - val_accuracy: 0.9770\n",
            "Epoch 24/50\n",
            "63/63 [==============================] - 27s 426ms/step - loss: 1.1696 - accuracy: 0.9810 - val_loss: 3.0624 - val_accuracy: 0.9720\n",
            "Epoch 25/50\n",
            "63/63 [==============================] - 27s 426ms/step - loss: 0.9864 - accuracy: 0.9805 - val_loss: 2.5639 - val_accuracy: 0.9740\n",
            "Epoch 26/50\n",
            "63/63 [==============================] - 27s 425ms/step - loss: 1.1805 - accuracy: 0.9850 - val_loss: 2.7640 - val_accuracy: 0.9760\n",
            "Epoch 27/50\n",
            "63/63 [==============================] - 27s 426ms/step - loss: 0.8060 - accuracy: 0.9870 - val_loss: 2.5158 - val_accuracy: 0.9760\n",
            "Epoch 28/50\n",
            "63/63 [==============================] - 27s 426ms/step - loss: 0.9734 - accuracy: 0.9865 - val_loss: 2.5921 - val_accuracy: 0.9750\n",
            "Epoch 29/50\n",
            "63/63 [==============================] - 27s 430ms/step - loss: 0.8387 - accuracy: 0.9825 - val_loss: 2.1269 - val_accuracy: 0.9800\n",
            "Epoch 30/50\n",
            "63/63 [==============================] - 27s 425ms/step - loss: 0.6670 - accuracy: 0.9880 - val_loss: 2.2410 - val_accuracy: 0.9780\n",
            "Epoch 31/50\n",
            "63/63 [==============================] - 27s 426ms/step - loss: 0.5224 - accuracy: 0.9870 - val_loss: 2.3548 - val_accuracy: 0.9780\n",
            "Epoch 32/50\n",
            "63/63 [==============================] - 27s 430ms/step - loss: 0.5117 - accuracy: 0.9860 - val_loss: 1.8744 - val_accuracy: 0.9800\n",
            "Epoch 33/50\n",
            "63/63 [==============================] - 27s 426ms/step - loss: 0.6576 - accuracy: 0.9885 - val_loss: 1.9890 - val_accuracy: 0.9780\n",
            "Epoch 34/50\n",
            "63/63 [==============================] - 27s 425ms/step - loss: 0.7344 - accuracy: 0.9855 - val_loss: 3.9667 - val_accuracy: 0.9700\n",
            "Epoch 35/50\n",
            "63/63 [==============================] - 27s 426ms/step - loss: 0.6001 - accuracy: 0.9860 - val_loss: 2.9062 - val_accuracy: 0.9720\n",
            "Epoch 36/50\n",
            "63/63 [==============================] - 27s 426ms/step - loss: 1.0125 - accuracy: 0.9850 - val_loss: 2.3198 - val_accuracy: 0.9730\n",
            "Epoch 37/50\n",
            "63/63 [==============================] - 27s 425ms/step - loss: 0.5021 - accuracy: 0.9870 - val_loss: 2.1602 - val_accuracy: 0.9740\n",
            "Epoch 38/50\n",
            "63/63 [==============================] - 27s 426ms/step - loss: 0.4540 - accuracy: 0.9870 - val_loss: 3.4771 - val_accuracy: 0.9710\n",
            "Epoch 39/50\n",
            "63/63 [==============================] - 27s 425ms/step - loss: 0.6015 - accuracy: 0.9885 - val_loss: 2.1368 - val_accuracy: 0.9750\n",
            "Epoch 40/50\n",
            "63/63 [==============================] - 28s 432ms/step - loss: 0.4639 - accuracy: 0.9885 - val_loss: 1.7672 - val_accuracy: 0.9840\n",
            "Epoch 41/50\n",
            "63/63 [==============================] - 28s 431ms/step - loss: 0.7881 - accuracy: 0.9875 - val_loss: 1.8100 - val_accuracy: 0.9820\n",
            "Epoch 42/50\n",
            "63/63 [==============================] - 27s 426ms/step - loss: 0.6178 - accuracy: 0.9870 - val_loss: 2.7363 - val_accuracy: 0.9700\n",
            "Epoch 43/50\n",
            "63/63 [==============================] - 27s 430ms/step - loss: 0.7207 - accuracy: 0.9865 - val_loss: 1.6005 - val_accuracy: 0.9800\n",
            "Epoch 44/50\n",
            "63/63 [==============================] - 27s 426ms/step - loss: 0.4335 - accuracy: 0.9895 - val_loss: 1.6222 - val_accuracy: 0.9780\n",
            "Epoch 45/50\n",
            "63/63 [==============================] - 27s 427ms/step - loss: 0.5468 - accuracy: 0.9860 - val_loss: 1.8385 - val_accuracy: 0.9770\n",
            "Epoch 46/50\n",
            "63/63 [==============================] - 27s 426ms/step - loss: 0.4389 - accuracy: 0.9900 - val_loss: 1.8185 - val_accuracy: 0.9790\n",
            "Epoch 47/50\n",
            "63/63 [==============================] - 27s 426ms/step - loss: 0.7063 - accuracy: 0.9850 - val_loss: 2.0467 - val_accuracy: 0.9750\n",
            "Epoch 48/50\n",
            "63/63 [==============================] - 27s 426ms/step - loss: 0.3877 - accuracy: 0.9905 - val_loss: 2.1539 - val_accuracy: 0.9770\n",
            "Epoch 49/50\n",
            "63/63 [==============================] - 27s 429ms/step - loss: 0.3275 - accuracy: 0.9915 - val_loss: 2.7149 - val_accuracy: 0.9740\n",
            "Epoch 50/50\n",
            "63/63 [==============================] - 27s 426ms/step - loss: 0.3851 - accuracy: 0.9925 - val_loss: 1.7477 - val_accuracy: 0.9770\n"
          ]
        }
      ]
    },
    {
      "cell_type": "markdown",
      "metadata": {
        "id": "NZeVqDgrLJgJ"
      },
      "source": [
        "**Evaluating the model on the test set**"
      ]
    },
    {
      "cell_type": "code",
      "metadata": {
        "id": "1a7rXKp5LJgJ",
        "colab": {
          "base_uri": "https://localhost:8080/"
        },
        "outputId": "6ca12950-37c6-45a4-ff89-3d1e5be2bef6"
      },
      "source": [
        "test_model = keras.models.load_model(\n",
        "    \"feature_extraction_with_data_augmentation.keras\")\n",
        "test_loss, test_acc = test_model.evaluate(test_dataset)\n",
        "print(f\"Test accuracy: {test_acc:.3f}\")"
      ],
      "execution_count": null,
      "outputs": [
        {
          "output_type": "stream",
          "name": "stdout",
          "text": [
            "32/32 [==============================] - 9s 270ms/step - loss: 2.0973 - accuracy: 0.9790\n",
            "Test accuracy: 0.979\n"
          ]
        }
      ]
    },
    {
      "cell_type": "markdown",
      "metadata": {
        "id": "D51I3dJALJgJ"
      },
      "source": [
        "### A pretrained VGG16 model with Fine-tuning \n",
        "\n",
        "#### Fine-tuning consists of unfreezing a few of the top layers of a frozen model base used for feature extraction, and jointly training both the newly added part of the model (in this case, the fully connected classifier) and these top layers. This is called fine-tuning because it slightly adjusts the more abstract representations of the model being reused in order to make them more relevant for the problem at hand."
      ]
    },
    {
      "cell_type": "code",
      "metadata": {
        "id": "N0V2rv5RLJgJ",
        "colab": {
          "base_uri": "https://localhost:8080/"
        },
        "outputId": "6e5cdc0d-758f-4550-f626-fe24aaff2bcb"
      },
      "source": [
        "conv_base.summary()"
      ],
      "execution_count": null,
      "outputs": [
        {
          "output_type": "stream",
          "name": "stdout",
          "text": [
            "Model: \"vgg16\"\n",
            "_________________________________________________________________\n",
            " Layer (type)                Output Shape              Param #   \n",
            "=================================================================\n",
            " input_6 (InputLayer)        [(None, None, None, 3)]   0         \n",
            "                                                                 \n",
            " block1_conv1 (Conv2D)       (None, None, None, 64)    1792      \n",
            "                                                                 \n",
            " block1_conv2 (Conv2D)       (None, None, None, 64)    36928     \n",
            "                                                                 \n",
            " block1_pool (MaxPooling2D)  (None, None, None, 64)    0         \n",
            "                                                                 \n",
            " block2_conv1 (Conv2D)       (None, None, None, 128)   73856     \n",
            "                                                                 \n",
            " block2_conv2 (Conv2D)       (None, None, None, 128)   147584    \n",
            "                                                                 \n",
            " block2_pool (MaxPooling2D)  (None, None, None, 128)   0         \n",
            "                                                                 \n",
            " block3_conv1 (Conv2D)       (None, None, None, 256)   295168    \n",
            "                                                                 \n",
            " block3_conv2 (Conv2D)       (None, None, None, 256)   590080    \n",
            "                                                                 \n",
            " block3_conv3 (Conv2D)       (None, None, None, 256)   590080    \n",
            "                                                                 \n",
            " block3_pool (MaxPooling2D)  (None, None, None, 256)   0         \n",
            "                                                                 \n",
            " block4_conv1 (Conv2D)       (None, None, None, 512)   1180160   \n",
            "                                                                 \n",
            " block4_conv2 (Conv2D)       (None, None, None, 512)   2359808   \n",
            "                                                                 \n",
            " block4_conv3 (Conv2D)       (None, None, None, 512)   2359808   \n",
            "                                                                 \n",
            " block4_pool (MaxPooling2D)  (None, None, None, 512)   0         \n",
            "                                                                 \n",
            " block5_conv1 (Conv2D)       (None, None, None, 512)   2359808   \n",
            "                                                                 \n",
            " block5_conv2 (Conv2D)       (None, None, None, 512)   2359808   \n",
            "                                                                 \n",
            " block5_conv3 (Conv2D)       (None, None, None, 512)   2359808   \n",
            "                                                                 \n",
            " block5_pool (MaxPooling2D)  (None, None, None, 512)   0         \n",
            "                                                                 \n",
            "=================================================================\n",
            "Total params: 14,714,688\n",
            "Trainable params: 0\n",
            "Non-trainable params: 14,714,688\n",
            "_________________________________________________________________\n"
          ]
        }
      ]
    },
    {
      "cell_type": "markdown",
      "metadata": {
        "id": "cUR7EUYmLJgJ"
      },
      "source": [
        "**Freezing all layers until the fourth from the last**"
      ]
    },
    {
      "cell_type": "code",
      "metadata": {
        "id": "9afcG21WLJgJ"
      },
      "source": [
        "conv_base.trainable = True\n",
        "for layer in conv_base.layers[:-4]:\n",
        "    layer.trainable = False"
      ],
      "execution_count": null,
      "outputs": []
    },
    {
      "cell_type": "markdown",
      "metadata": {
        "id": "44SPsGOiLJgJ"
      },
      "source": [
        "**Fine-tuning the model**"
      ]
    },
    {
      "cell_type": "code",
      "metadata": {
        "id": "BNfNf5C6LJgJ",
        "colab": {
          "base_uri": "https://localhost:8080/"
        },
        "outputId": "fbb35ea5-d2e7-47ee-fe53-d057e1541577"
      },
      "source": [
        "model.compile(loss=\"binary_crossentropy\",\n",
        "              optimizer=keras.optimizers.RMSprop(learning_rate=1e-5),\n",
        "              metrics=[\"accuracy\"])\n",
        "\n",
        "callbacks = [\n",
        "    keras.callbacks.ModelCheckpoint(\n",
        "        filepath=\"fine_tuning.keras\",\n",
        "        save_best_only=True,\n",
        "        monitor=\"val_loss\")\n",
        "]\n",
        "history = model.fit(\n",
        "    train_dataset,\n",
        "    epochs=30,\n",
        "    validation_data=validation_dataset,\n",
        "    callbacks=callbacks)"
      ],
      "execution_count": null,
      "outputs": [
        {
          "output_type": "stream",
          "name": "stdout",
          "text": [
            "Epoch 1/30\n",
            "63/63 [==============================] - 32s 474ms/step - loss: 0.2829 - accuracy: 0.9900 - val_loss: 2.0677 - val_accuracy: 0.9770\n",
            "Epoch 2/30\n",
            "63/63 [==============================] - 30s 470ms/step - loss: 0.5034 - accuracy: 0.9920 - val_loss: 1.7168 - val_accuracy: 0.9790\n",
            "Epoch 3/30\n",
            "63/63 [==============================] - 30s 468ms/step - loss: 0.4098 - accuracy: 0.9890 - val_loss: 1.6178 - val_accuracy: 0.9770\n",
            "Epoch 4/30\n",
            "63/63 [==============================] - 29s 464ms/step - loss: 0.1503 - accuracy: 0.9955 - val_loss: 1.6272 - val_accuracy: 0.9760\n",
            "Epoch 5/30\n",
            "63/63 [==============================] - 30s 472ms/step - loss: 0.2236 - accuracy: 0.9935 - val_loss: 1.1429 - val_accuracy: 0.9820\n",
            "Epoch 6/30\n",
            "63/63 [==============================] - 30s 464ms/step - loss: 0.2903 - accuracy: 0.9910 - val_loss: 1.2392 - val_accuracy: 0.9820\n",
            "Epoch 7/30\n",
            "63/63 [==============================] - 30s 469ms/step - loss: 0.2025 - accuracy: 0.9920 - val_loss: 1.1187 - val_accuracy: 0.9790\n",
            "Epoch 8/30\n",
            "63/63 [==============================] - 29s 464ms/step - loss: 0.1114 - accuracy: 0.9950 - val_loss: 1.4681 - val_accuracy: 0.9800\n",
            "Epoch 9/30\n",
            "63/63 [==============================] - 29s 464ms/step - loss: 0.3462 - accuracy: 0.9915 - val_loss: 1.2117 - val_accuracy: 0.9780\n",
            "Epoch 10/30\n",
            "63/63 [==============================] - 29s 465ms/step - loss: 0.1429 - accuracy: 0.9955 - val_loss: 1.2548 - val_accuracy: 0.9790\n",
            "Epoch 11/30\n",
            "63/63 [==============================] - 29s 464ms/step - loss: 0.1369 - accuracy: 0.9955 - val_loss: 1.3734 - val_accuracy: 0.9780\n",
            "Epoch 12/30\n",
            "63/63 [==============================] - 29s 465ms/step - loss: 0.1067 - accuracy: 0.9955 - val_loss: 1.2990 - val_accuracy: 0.9810\n",
            "Epoch 13/30\n",
            "63/63 [==============================] - 29s 464ms/step - loss: 0.1848 - accuracy: 0.9930 - val_loss: 1.7605 - val_accuracy: 0.9780\n",
            "Epoch 14/30\n",
            "63/63 [==============================] - 29s 464ms/step - loss: 0.2410 - accuracy: 0.9940 - val_loss: 1.8302 - val_accuracy: 0.9750\n",
            "Epoch 15/30\n",
            "63/63 [==============================] - 29s 464ms/step - loss: 0.2159 - accuracy: 0.9930 - val_loss: 1.3691 - val_accuracy: 0.9830\n",
            "Epoch 16/30\n",
            "63/63 [==============================] - 29s 465ms/step - loss: 0.0301 - accuracy: 0.9975 - val_loss: 1.3157 - val_accuracy: 0.9830\n",
            "Epoch 17/30\n",
            "63/63 [==============================] - 29s 465ms/step - loss: 0.2484 - accuracy: 0.9935 - val_loss: 1.3519 - val_accuracy: 0.9860\n",
            "Epoch 18/30\n",
            "63/63 [==============================] - 29s 464ms/step - loss: 0.0877 - accuracy: 0.9975 - val_loss: 1.5872 - val_accuracy: 0.9770\n",
            "Epoch 19/30\n",
            "63/63 [==============================] - 29s 464ms/step - loss: 0.1844 - accuracy: 0.9945 - val_loss: 1.5333 - val_accuracy: 0.9790\n",
            "Epoch 20/30\n",
            "63/63 [==============================] - 29s 464ms/step - loss: 0.0473 - accuracy: 0.9980 - val_loss: 1.8142 - val_accuracy: 0.9770\n",
            "Epoch 21/30\n",
            "63/63 [==============================] - 29s 463ms/step - loss: 0.1510 - accuracy: 0.9960 - val_loss: 1.5314 - val_accuracy: 0.9790\n",
            "Epoch 22/30\n",
            "63/63 [==============================] - 29s 465ms/step - loss: 0.0512 - accuracy: 0.9980 - val_loss: 1.4212 - val_accuracy: 0.9780\n",
            "Epoch 23/30\n",
            "63/63 [==============================] - 29s 465ms/step - loss: 0.1944 - accuracy: 0.9945 - val_loss: 1.3199 - val_accuracy: 0.9840\n",
            "Epoch 24/30\n",
            "63/63 [==============================] - 29s 464ms/step - loss: 0.0549 - accuracy: 0.9980 - val_loss: 1.3359 - val_accuracy: 0.9830\n",
            "Epoch 25/30\n",
            "63/63 [==============================] - 29s 464ms/step - loss: 0.0536 - accuracy: 0.9975 - val_loss: 1.4675 - val_accuracy: 0.9770\n",
            "Epoch 26/30\n",
            "63/63 [==============================] - 29s 465ms/step - loss: 0.1146 - accuracy: 0.9945 - val_loss: 1.4326 - val_accuracy: 0.9800\n",
            "Epoch 27/30\n",
            "63/63 [==============================] - 29s 465ms/step - loss: 0.0988 - accuracy: 0.9945 - val_loss: 1.4396 - val_accuracy: 0.9820\n",
            "Epoch 28/30\n",
            "63/63 [==============================] - 29s 465ms/step - loss: 0.1972 - accuracy: 0.9950 - val_loss: 1.3972 - val_accuracy: 0.9790\n",
            "Epoch 29/30\n",
            "63/63 [==============================] - 29s 465ms/step - loss: 0.0740 - accuracy: 0.9970 - val_loss: 1.4124 - val_accuracy: 0.9830\n",
            "Epoch 30/30\n",
            "63/63 [==============================] - 29s 464ms/step - loss: 0.0301 - accuracy: 0.9980 - val_loss: 1.5291 - val_accuracy: 0.9810\n"
          ]
        }
      ]
    },
    {
      "cell_type": "code",
      "metadata": {
        "id": "QTO5M9XHLJgK",
        "colab": {
          "base_uri": "https://localhost:8080/"
        },
        "outputId": "40cb3c51-a39a-4803-fefc-4a9b3405d4ac"
      },
      "source": [
        "model = keras.models.load_model(\"fine_tuning.keras\")\n",
        "test_loss, test_acc = model.evaluate(test_dataset)\n",
        "print(f\"Test accuracy: {test_acc:.3f}\")"
      ],
      "execution_count": null,
      "outputs": [
        {
          "output_type": "stream",
          "name": "stdout",
          "text": [
            "32/32 [==============================] - 9s 270ms/step - loss: 1.6916 - accuracy: 0.9810\n",
            "Test accuracy: 0.981\n"
          ]
        }
      ]
    }
  ]
}